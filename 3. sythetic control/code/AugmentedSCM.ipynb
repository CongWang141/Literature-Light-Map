{
 "cells": [
  {
   "cell_type": "markdown",
   "metadata": {},
   "source": [
    "## Augmented synthetic control method "
   ]
  },
  {
   "cell_type": "code",
   "execution_count": 202,
   "metadata": {},
   "outputs": [],
   "source": [
    "import pandas as pd\n",
    "import numpy as np\n",
    "from pysyncon import Dataprep, Synth, AugSynth\n",
    "import matplotlib.pyplot as plt\n",
    "import seaborn as sns\n",
    "import os\n",
    "os.chdir('/Users/wang/Desktop/8. Literature Light Map/3. sythetic control')"
   ]
  },
  {
   "cell_type": "markdown",
   "metadata": {},
   "source": [
    "### 1. The data\n",
    "+ we use the data from the last chapter of the book \"Causal Inference: The Mixtape\" by Scott Cunningham that examined prison construction and black male incarceration in the state of Texas. The treatment is happend in Texas in 1993."
   ]
  },
  {
   "cell_type": "code",
   "execution_count": 203,
   "metadata": {},
   "outputs": [],
   "source": [
    "df = pd.read_stata(\"data/texas.dta\")\n",
    "\n",
    "# build the treatment indicator\n",
    "df['treated'] = (df['state'] == 'Texas') & (df['year'] >= 1993)"
   ]
  },
  {
   "cell_type": "code",
   "execution_count": 204,
   "metadata": {},
   "outputs": [
    {
     "data": {
      "text/html": [
       "<div>\n",
       "<style scoped>\n",
       "    .dataframe tbody tr th:only-of-type {\n",
       "        vertical-align: middle;\n",
       "    }\n",
       "\n",
       "    .dataframe tbody tr th {\n",
       "        vertical-align: top;\n",
       "    }\n",
       "\n",
       "    .dataframe thead th {\n",
       "        text-align: right;\n",
       "    }\n",
       "</style>\n",
       "<table border=\"1\" class=\"dataframe\">\n",
       "  <thead>\n",
       "    <tr style=\"text-align: right;\">\n",
       "      <th></th>\n",
       "      <th>state</th>\n",
       "      <th>year</th>\n",
       "      <th>bmprison</th>\n",
       "      <th>treated</th>\n",
       "    </tr>\n",
       "  </thead>\n",
       "  <tbody>\n",
       "    <tr>\n",
       "      <th>694</th>\n",
       "      <td>Texas</td>\n",
       "      <td>1991.0</td>\n",
       "      <td>23249.0</td>\n",
       "      <td>False</td>\n",
       "    </tr>\n",
       "    <tr>\n",
       "      <th>695</th>\n",
       "      <td>Texas</td>\n",
       "      <td>1992.0</td>\n",
       "      <td>27568.0</td>\n",
       "      <td>False</td>\n",
       "    </tr>\n",
       "    <tr>\n",
       "      <th>696</th>\n",
       "      <td>Texas</td>\n",
       "      <td>1993.0</td>\n",
       "      <td>29260.0</td>\n",
       "      <td>True</td>\n",
       "    </tr>\n",
       "    <tr>\n",
       "      <th>697</th>\n",
       "      <td>Texas</td>\n",
       "      <td>1994.0</td>\n",
       "      <td>40451.0</td>\n",
       "      <td>True</td>\n",
       "    </tr>\n",
       "    <tr>\n",
       "      <th>698</th>\n",
       "      <td>Texas</td>\n",
       "      <td>1995.0</td>\n",
       "      <td>55602.0</td>\n",
       "      <td>True</td>\n",
       "    </tr>\n",
       "  </tbody>\n",
       "</table>\n",
       "</div>"
      ],
      "text/plain": [
       "     state    year  bmprison  treated\n",
       "694  Texas  1991.0   23249.0    False\n",
       "695  Texas  1992.0   27568.0    False\n",
       "696  Texas  1993.0   29260.0     True\n",
       "697  Texas  1994.0   40451.0     True\n",
       "698  Texas  1995.0   55602.0     True"
      ]
     },
     "execution_count": 204,
     "metadata": {},
     "output_type": "execute_result"
    }
   ],
   "source": [
    "df.query(\"state=='Texas' & year > 1990\")[['state', 'year', 'bmprison', 'treated']].head()"
   ]
  },
  {
   "cell_type": "code",
   "execution_count": 205,
   "metadata": {},
   "outputs": [],
   "source": [
    "# prepare the control group\n",
    "X = df.query(\"state!='Texas'\").pivot(index='year', columns='state', values='bmprison')\n",
    "\n",
    "# prepare the treatment group\n",
    "y = df.query(\"state=='Texas'\").pivot(index='year', columns='state', values='bmprison')"
   ]
  },
  {
   "cell_type": "code",
   "execution_count": 206,
   "metadata": {},
   "outputs": [
    {
     "data": {
      "text/html": [
       "<div>\n",
       "<style scoped>\n",
       "    .dataframe tbody tr th:only-of-type {\n",
       "        vertical-align: middle;\n",
       "    }\n",
       "\n",
       "    .dataframe tbody tr th {\n",
       "        vertical-align: top;\n",
       "    }\n",
       "\n",
       "    .dataframe thead th {\n",
       "        text-align: right;\n",
       "    }\n",
       "</style>\n",
       "<table border=\"1\" class=\"dataframe\">\n",
       "  <thead>\n",
       "    <tr style=\"text-align: right;\">\n",
       "      <th>state</th>\n",
       "      <th>Alabama</th>\n",
       "      <th>Alaska</th>\n",
       "      <th>Arizona</th>\n",
       "      <th>Arkansas</th>\n",
       "      <th>California</th>\n",
       "    </tr>\n",
       "    <tr>\n",
       "      <th>year</th>\n",
       "      <th></th>\n",
       "      <th></th>\n",
       "      <th></th>\n",
       "      <th></th>\n",
       "      <th></th>\n",
       "    </tr>\n",
       "  </thead>\n",
       "  <tbody>\n",
       "    <tr>\n",
       "      <th>1985.0</th>\n",
       "      <td>6227.0</td>\n",
       "      <td>198.0</td>\n",
       "      <td>1297.0</td>\n",
       "      <td>2153.0</td>\n",
       "      <td>16138.0</td>\n",
       "    </tr>\n",
       "    <tr>\n",
       "      <th>1986.0</th>\n",
       "      <td>6657.0</td>\n",
       "      <td>211.0</td>\n",
       "      <td>1452.0</td>\n",
       "      <td>2238.0</td>\n",
       "      <td>19549.0</td>\n",
       "    </tr>\n",
       "    <tr>\n",
       "      <th>1987.0</th>\n",
       "      <td>7281.0</td>\n",
       "      <td>217.0</td>\n",
       "      <td>1675.0</td>\n",
       "      <td>2536.0</td>\n",
       "      <td>22184.0</td>\n",
       "    </tr>\n",
       "    <tr>\n",
       "      <th>1988.0</th>\n",
       "      <td>7244.0</td>\n",
       "      <td>271.0</td>\n",
       "      <td>1775.0</td>\n",
       "      <td>2646.0</td>\n",
       "      <td>26438.0</td>\n",
       "    </tr>\n",
       "    <tr>\n",
       "      <th>1989.0</th>\n",
       "      <td>8056.0</td>\n",
       "      <td>310.0</td>\n",
       "      <td>2033.0</td>\n",
       "      <td>3126.0</td>\n",
       "      <td>30066.0</td>\n",
       "    </tr>\n",
       "  </tbody>\n",
       "</table>\n",
       "</div>"
      ],
      "text/plain": [
       "state   Alabama  Alaska  Arizona  Arkansas  California\n",
       "year                                                  \n",
       "1985.0   6227.0   198.0   1297.0    2153.0     16138.0\n",
       "1986.0   6657.0   211.0   1452.0    2238.0     19549.0\n",
       "1987.0   7281.0   217.0   1675.0    2536.0     22184.0\n",
       "1988.0   7244.0   271.0   1775.0    2646.0     26438.0\n",
       "1989.0   8056.0   310.0   2033.0    3126.0     30066.0"
      ]
     },
     "execution_count": 206,
     "metadata": {},
     "output_type": "execute_result"
    }
   ],
   "source": [
    "X.iloc[0:5, 0:5]"
   ]
  },
  {
   "cell_type": "code",
   "execution_count": 207,
   "metadata": {},
   "outputs": [
    {
     "data": {
      "text/html": [
       "<div>\n",
       "<style scoped>\n",
       "    .dataframe tbody tr th:only-of-type {\n",
       "        vertical-align: middle;\n",
       "    }\n",
       "\n",
       "    .dataframe tbody tr th {\n",
       "        vertical-align: top;\n",
       "    }\n",
       "\n",
       "    .dataframe thead th {\n",
       "        text-align: right;\n",
       "    }\n",
       "</style>\n",
       "<table border=\"1\" class=\"dataframe\">\n",
       "  <thead>\n",
       "    <tr style=\"text-align: right;\">\n",
       "      <th>state</th>\n",
       "      <th>Texas</th>\n",
       "    </tr>\n",
       "    <tr>\n",
       "      <th>year</th>\n",
       "      <th></th>\n",
       "    </tr>\n",
       "  </thead>\n",
       "  <tbody>\n",
       "    <tr>\n",
       "      <th>1985.0</th>\n",
       "      <td>14828.0</td>\n",
       "    </tr>\n",
       "    <tr>\n",
       "      <th>1986.0</th>\n",
       "      <td>15207.0</td>\n",
       "    </tr>\n",
       "    <tr>\n",
       "      <th>1987.0</th>\n",
       "      <td>15780.0</td>\n",
       "    </tr>\n",
       "    <tr>\n",
       "      <th>1988.0</th>\n",
       "      <td>16956.0</td>\n",
       "    </tr>\n",
       "    <tr>\n",
       "      <th>1989.0</th>\n",
       "      <td>19366.0</td>\n",
       "    </tr>\n",
       "  </tbody>\n",
       "</table>\n",
       "</div>"
      ],
      "text/plain": [
       "state     Texas\n",
       "year           \n",
       "1985.0  14828.0\n",
       "1986.0  15207.0\n",
       "1987.0  15780.0\n",
       "1988.0  16956.0\n",
       "1989.0  19366.0"
      ]
     },
     "execution_count": 207,
     "metadata": {},
     "output_type": "execute_result"
    }
   ],
   "source": [
    "y.head()"
   ]
  },
  {
   "cell_type": "markdown",
   "metadata": {},
   "source": [
    "### 2. Notation and setup\n",
    "The observed outcomes before and after treatment.\n",
    "\\begin{equation}\n",
    "\\tag{1}\n",
    "Y_{it} = \n",
    "\\begin{cases} \n",
    "Y_{it}(0) & \\text{if } W_{i} = 0 \\text{ or } t \\leq T_{0}, \\\\\n",
    "Y_{it}(1) & \\text{if } W_{i} = 1 \\text{ and } t > T_{0}.\n",
    "\\end{cases}\n",
    "\\end{equation}\n",
    "\n",
    "The treatment potential outcome is $Y_{it}(1) = Y_{it}(0) + \\tau_{it} $, since only the first unit is treated, the estimand of interest is $\\tau = Y_{iT}(1) - Y_{iT}(0) $"
   ]
  },
  {
   "cell_type": "markdown",
   "metadata": {},
   "source": [
    "Expression in matrix:\n",
    "\n",
    "\\begin{align}\n",
    "\\tag{2}\n",
    "\\left( \\begin{array}{cccc|c}\n",
    "Y_{11} & Y_{12} & \\cdots & Y_{1T_0} & Y_{1T} \\\\ \\hline\n",
    "Y_{21} & Y_{22} & \\cdots & Y_{2T_0} & Y_{2T} \\\\\n",
    "\\vdots & \\vdots & \\ddots & \\vdots & \\vdots \\\\ \n",
    "Y_{N1} & Y_{N2} & \\cdots & Y_{NT_0} & Y_{NT} \\\\\n",
    "\\end{array} \\right)\n",
    "\n",
    "&=\n",
    "\\left( \\begin{array}{cccc|c}\n",
    "X_{11} & X_{12} & \\cdots & X_{1T_0} & Y_{1T}\\\\ \\hline\n",
    "X_{21} & X_{22} & \\cdots & X_{2T_0} & Y_{2T}\\\\\n",
    "\\vdots & \\vdots & \\ddots & \\vdots & \\vdots\\\\ \n",
    "X_{N1} & X_{N2} & \\cdots & X_{NT_0} & Y_{NT}\\\\\n",
    "\\end{array} \\right) \\\\\n",
    "&=\n",
    "\n",
    "\\left(\n",
    "\\begin{array}{c|c}\n",
    "X_1 & Y_{1T} \\\\ \\hline\n",
    "X_0 & Y_{0T} \\\\\n",
    "\\end{array} \\notag\n",
    "\\right)\n",
    "\n",
    "\\end{align}\n"
   ]
  },
  {
   "cell_type": "markdown",
   "metadata": {},
   "source": [
    "for control potential outcomes before and after $T_0$:\n",
    "\n",
    "\\begin{equation}\n",
    "\\tag{3}\n",
    "Y_{it}(0) = m_{it} + \\epsilon_{it}\n",
    "\\end{equation}\n"
   ]
  },
  {
   "cell_type": "markdown",
   "metadata": {},
   "source": [
    "### 3. Assumption on DGPs\n",
    "\n",
    "Assumption 1(a): for post-treatment time $T$, $Y_{iT}(0)$ is linear in its lagged values:\n",
    "\n",
    "\\begin{equation}\n",
    "\\tag{4}\n",
    "Y_{it}(0) = \\sum_{\\ell=1}^{T_0} \\beta_{\\ell} Y_{i(t-\\ell)}(0) + \\varepsilon_{it}\n",
    "\\end{equation}\n",
    "\n",
    "Assumption 1(b): for all $t=1, \\cdots, T $, $Y_{it}(0)$ is linear in a set of latent factors:\n",
    "\\begin{equation}\n",
    "\\tag{6}\n",
    "Y_{it}(0) = \\boldsymbol{\\phi_i} \\cdot \\boldsymbol{\\mu_t} + \\varepsilon_{it} = \\sum_{j=1}^{J} \\phi_{ij} \\mu_{jt} + \\varepsilon_{it}\n",
    "\\end{equation}\n"
   ]
  },
  {
   "cell_type": "markdown",
   "metadata": {},
   "source": [
    "### 4. Synthetic control method\n",
    "\n",
    "We consider a version of SCM that chooses weights $\\boldsymbol{\\gamma}$ as a solution to the constrained optimization problem:\n",
    "\n",
    "\\begin{equation}\n",
    "\\tag{8}\n",
    "\\begin{aligned}\n",
    "& \n",
    "& & \\underset{\\gamma}{\\text{min}}\\left\\| V_x^{1/2} (X_1 - X_0' \\gamma) \\right\\|_2^2 + \\zeta \\sum_{W_i=0} f(\\gamma_i) \\\\\n",
    "& \\text{s.t.}\n",
    "& & \\sum_{W_i=0} \\gamma_i = 1, \\\\\n",
    "& & & \\gamma_i \\geq 0 \\quad i: W_i = 0\n",
    "\\end{aligned}\n",
    "\\end{equation}\n",
    "\n",
    "where $f(\\gamma_i)$ is a dispersion penalty on the weights."
   ]
  },
  {
   "cell_type": "code",
   "execution_count": 208,
   "metadata": {},
   "outputs": [],
   "source": [
    "from sklearn.utils.validation import check_X_y\n",
    "from scipy.optimize import minimize, Bounds, LinearConstraint"
   ]
  },
  {
   "cell_type": "code",
   "execution_count": 209,
   "metadata": {},
   "outputs": [
    {
     "name": "stdout",
     "output_type": "stream",
     "text": [
      " message: Optimization terminated successfully\n",
      " success: True\n",
      "  status: 0\n",
      "     fun: 862.8901069949657\n",
      "       x: [ 5.866e-08  3.322e-12 ...  4.778e-08  3.407e-12]\n",
      "     nit: 29\n",
      "     jac: [-6.267e+02 -8.982e+00 ... -3.196e+02 -2.495e-01]\n",
      "    nfev: 1421\n",
      "    njev: 25\n"
     ]
    }
   ],
   "source": [
    "# notice in the original paper, the authors do not use penalty term\n",
    "# choose the pre-treatment group, year before 1993\n",
    "# Checks X and y for consistent length, enforces X to be 2D and y 1D\n",
    "X0, X1 = check_X_y(X[X.index<1993], y[y.index<1993].Texas)\n",
    "\n",
    "# Initial guess for the weights: could be 0, uniform or based on some other logic\n",
    "initial_w = (np.ones(X0.shape[1])/X0.shape[1])\n",
    "\n",
    "# weigting matrix v, to assign weight to observations, here we use weighted equally\n",
    "v = np.diag(np.ones(X0.shape[0])/X0.shape[0])\n",
    "\n",
    "# Define the objective function to minimize: the sum of squares of the residuals\n",
    "def fun_obj(w, X0, X1, v):\n",
    "    return np.mean(np.sqrt((X1 - X0 @ w).T @ v @ (X1 - X0 @ w)))\n",
    "\n",
    "# Define the constraints: the weights should sum to 1\n",
    "constraints = LinearConstraint(np.ones(X0.shape[1]), lb= 1, ub= 1)\n",
    "\n",
    "# Define the bounds: the weights should be between 0 and 1\n",
    "bounds = Bounds(lb=0, ub=1)\n",
    "\n",
    "# Use the SLSQP method which supports both bounds and constraints\n",
    "result = minimize(fun_obj, x0=initial_w, args=(X0, X1, v), method='SLSQP', bounds=bounds, constraints=constraints)\n",
    "\n",
    "print(result)"
   ]
  },
  {
   "cell_type": "code",
   "execution_count": 210,
   "metadata": {},
   "outputs": [
    {
     "data": {
      "image/png": "[encoded data removed]",
      "text/plain": [
       "<Figure size 432x288 with 1 Axes>"
      ]
     },
     "metadata": {
      "needs_background": "light"
     },
     "output_type": "display_data"
    }
   ],
   "source": [
    "# we use the weights to construct the synthetic Texas\n",
    "fitted = X @ result.x\n",
    "\n",
    "dat = y.copy()\n",
    "dat['Synthetic Texas'] = fitted\n",
    "dat.index = pd.to_datetime(dat.index, format='%Y')\n",
    "# Plot both the actual and fitted data\n",
    "sns.lineplot(dat)\n",
    "plt.legend(title=None)\n",
    "plt.axvline(x=pd.to_datetime('1993', format='%Y'), linestyle='--', color='black')\n",
    "sns.despine()"
   ]
  },
  {
   "cell_type": "markdown",
   "metadata": {},
   "source": [
    "### 5. Augmented SCM\n",
    "`Motivation:` \n",
    "\n",
    "+ 1. When “the pretreatment fit is poor or the number of pretreatment periods is small,” Abadie, Diamond, and Hainmueller (2015) recommended against using SCM. Augmented SCM enables the use of (a modified) SCM approach in many of the cases where SCM alone is infeasible.\n",
    "\n",
    "+ 2. Bias correction and doubly robust feature\n",
    "\n",
    "\\begin{align}\n",
    "\\hat{Y}_{1T}^{aug}(0) &= \\sum_{W_i=0} \\hat{\\gamma}_i^{scm} Y_{iT} +  \\underbrace{ \\left(\\hat{m}_{1T} - \\sum_{W_i=0} \\hat{\\gamma}_i^{scm} \\hat{m}_{iT}\\right) }_{Bias \\: correction \\:term} \\tag{9} \\\\\n",
    "\n",
    "&= \\hat{m}_{1T} + \\underbrace{\\sum_{W_i=0} \\hat{\\gamma}_i^{scm} (Y_{iT} - \\hat{m}_{iT})}_{doubly \\: robust \\: feature} \\tag{10}\n",
    "\\end{align}\n",
    "where the $\\hat{\\gamma}^{scm}_i$ is the canonical SCM (equation 8) estimated weights. Equation (9) directly corrects the SCM estimate, $\\sum \\hat{\\gamma_i}^{scm}Y_{iT} $, by the imbalance in a particular function of the pretreatment outcomes $\\hat{m}(\\cdot) $. Intuitively, since $\\hat{m} $ estimates the posttreatment outcome, we can view this as an estimate of the bias due to imbalance, analogous to bias correction for inexact matching (Abadie and Imbens 2011)."
   ]
  },
  {
   "cell_type": "markdown",
   "metadata": {},
   "source": [
    "### 6. Choice of estimator\n",
    "\n",
    "+ First, consider an estimator that is linear in pretreatment outcomes, $\\hat{m}(X) = \\hat{\\eta}_0 + \\boldsymbol{\\hat{\\eta}} \\cdot \\boldsymbol{X} $. Then the equation (9) can be written as:\n",
    "\n",
    "\\begin{equation}\n",
    "\\hat{Y}_{1T}^{aug}(0) = \\sum_{W_i=0} \\hat{\\gamma}_i^{scm} Y_{iT} + \\sum_{t=1}^{T_0} \\hat{\\eta}_t \\left( X_{1t} - \\sum_{W_i=0} \\hat{\\gamma}_i^{scm} X_{it} \\right) \\tag{11}\n",
    "\\end{equation}\n",
    "\n",
    "+ Second, consider an estimator that is a linear combination of comparison unit's posttreatment outcomes, $\\hat{m}(X) = \\sum_{w_i=0} \\hat{\\alpha}_i (X)Y_{iT} $, where $\\hat{\\alpha}$ is a weighting function.\n",
    "\n",
    "\\begin{align}\n",
    "\\hat{Y}_{1T}^{aug}(0) &= \\sum_{W_i=0} \\left( \\hat{\\gamma}_i^{scm} + \\hat{\\gamma}_i^{adj} \\right) Y_{iT}, \\text{ where} \\notag\\\\\n",
    "\n",
    "\\hat{\\gamma}_i^{adj} &\\equiv \\hat{\\alpha}_i(\\mathbf{X}_1) - \\sum_{W_j=0} \\hat{\\gamma}_j^{scm} \\hat{\\alpha}_i(\\mathbf{X}_j). \\tag{12}\n",
    "\\end{align}\n"
   ]
  },
  {
   "cell_type": "markdown",
   "metadata": {},
   "source": [
    "### 7. Ridge ASCM\n",
    "\n",
    "With Ridge ASCM, the estimator for the post-treatment outcome is $\\hat{m}(X_i) = \\hat{\\eta}_{0}^{ridge} + X'_i\\hat{\\eta}^{ridge} $\n",
    "\n",
    "\\begin{align}\n",
    "\\left\\{ \\hat{\\eta}_0^{ridge}, \\hat{\\eta}^{ridge} \\right\\} = &\\underset{\\eta_0,\\eta}{\\text{arg min}} \\left[ \\frac{1}{2} \\sum_{W_i=0} (Y_i - (\\eta_0 + X_i'\\eta))^2 + \\lambda^{ridge} \\|\\eta\\|_2^2 \\right] \\tag{14} \\\\\n",
    "& + \\lambda^{ridge} ||\\eta||^2_2 \\notag\n",
    "\\end{align}\n",
    "\n",
    "The Ridge Augmented SCM estimator is then (indicated by euqation (11)):\n",
    "\\begin{equation}\n",
    "\\hat{Y}_{1T}^{aug}(0) = \\sum_{W_i=0} \\hat{\\gamma}_i^{scm} Y_{iT} + \\left( X_1 - \\sum_{W_i=0} \\hat{\\gamma}_i^{scm} X_i \\right) \\hat{\\eta}^{ridge} \\tag{15}\n",
    "\\end{equation}\n"
   ]
  },
  {
   "cell_type": "markdown",
   "metadata": {},
   "source": [
    "### 8. Lemma 1\n",
    "\n",
    "+ The ridge-augmented SCM estimator (11) is: \n",
    "\\begin{equation}\n",
    "\\hat{Y}_{1T}^{aug}(0) = \\sum_{W_i=0} \\hat{\\gamma}_i^{aug} Y_{iT} \\tag{16}\n",
    "\\end{equation}\n",
    "\n",
    "\\begin{equation}\n",
    "\\text{where } \\hat{\\gamma}_i^{aug} = \\hat{\\gamma}_i^{scm} + (X_1 - X_0' \\hat{\\gamma}^{scm})' (X_0' X_0 + \\lambda^{ridge} I_{T_0})^{-1} X_{i.}. \\tag{17}\n",
    "\\end{equation}\n",
    "\n"
   ]
  },
  {
   "cell_type": "code",
   "execution_count": 211,
   "metadata": {},
   "outputs": [],
   "source": [
    "# gamma_scm is the optimal weights from SCM\n",
    "gamma_scm = result.x\n",
    "\n",
    "# define ridge penalty term lambda_ridge\n",
    "lambda_ridge = 0.1\n",
    "\n",
    "# based on equation 17, we can calculate the optimal weights of augmeted SCM\n",
    "def AugSCM(X0, X1, lambda_ridge, gamma_scm):\n",
    "\n",
    "    gamma_aug = gamma_scm + (X1 - X0@gamma_scm).T @ np.linalg.inv(X0@X0.T + lambda_ridge*np.identity(X0.shape[0])) @ X0\n",
    "    \n",
    "    return gamma_aug\n",
    "\n",
    "gamma_aug = AugSCM(X0, X1, lambda_ridge, gamma_scm)\n"
   ]
  },
  {
   "cell_type": "code",
   "execution_count": 212,
   "metadata": {},
   "outputs": [
    {
     "data": {
      "image/png": "[encoded data removed]",
      "text/plain": [
       "<Figure size 432x288 with 1 Axes>"
      ]
     },
     "metadata": {
      "needs_background": "light"
     },
     "output_type": "display_data"
    }
   ],
   "source": [
    "# we use the weights to construct the synthetic Texas\n",
    "fitted_aug = X @ gamma_aug\n",
    "\n",
    "dat['AugSCM Texas'] = fitted_aug.values\n",
    "# Plot both the actual and fitted data\n",
    "sns.lineplot(dat)\n",
    "plt.legend(title=None)\n",
    "plt.axvline(x=pd.to_datetime('1993', format='%Y'), linestyle='--', color='black')\n",
    "sns.despine()"
   ]
  },
  {
   "cell_type": "markdown",
   "metadata": {},
   "source": [
    "+ plase note that the pre-treatment fit has been improved \n",
    "\n",
    "Let's check if there are extrem weights"
   ]
  },
  {
   "cell_type": "code",
   "execution_count": 213,
   "metadata": {},
   "outputs": [
    {
     "name": "stdout",
     "output_type": "stream",
     "text": [
      "Mean: 0.03905801639467408\n",
      "Median: 0.004647049313479091\n",
      "Standard Deviation: 0.34224905000378436\n",
      "Min: -0.6957951987907506\n",
      "Max: 1.7106456359634592\n"
     ]
    }
   ],
   "source": [
    "print(\"Mean:\", np.mean(gamma_aug))\n",
    "print(\"Median:\", np.median(gamma_aug))\n",
    "print(\"Standard Deviation:\", np.std(gamma_aug))\n",
    "print(\"Min:\", np.min(gamma_aug))\n",
    "print(\"Max:\", np.max(gamma_aug))"
   ]
  },
  {
   "cell_type": "markdown",
   "metadata": {},
   "source": [
    "+ Comparing to the weights we got from cannonical SCM, whose weights are all non-negative and and less than 1!"
   ]
  },
  {
   "cell_type": "code",
   "execution_count": 214,
   "metadata": {},
   "outputs": [
    {
     "name": "stdout",
     "output_type": "stream",
     "text": [
      "Mean: 0.020000031583080186\n",
      "Median: 3.4051804928650657e-12\n",
      "Standard Deviation: 0.07988975272536264\n",
      "Min: 5.432274230165391e-13\n",
      "Max: 0.3725138927224733\n"
     ]
    }
   ],
   "source": [
    "print(\"Mean:\", np.mean(gamma_scm))\n",
    "print(\"Median:\", np.median(gamma_scm))\n",
    "print(\"Standard Deviation:\", np.std(gamma_scm))\n",
    "print(\"Min:\", np.min(gamma_scm))\n",
    "print(\"Max:\", np.max(gamma_scm))"
   ]
  },
  {
   "cell_type": "markdown",
   "metadata": {},
   "source": [
    "+ The Ridge ASCM weights $\\hat{\\gamma}^{aug}$ can also be describled as the solution to:\n",
    "\n",
    "\\begin{equation}\n",
    "\\tag{18}\n",
    "\\min_{\\gamma} \\quad \\frac{1}{2\\lambda^{ridge}} \\| X_1 - X_0' \\gamma \\|_2^2 + \\frac{1}{2} \\| \\gamma - \\hat{\\gamma}^{scm} \\|_2^2 \\quad \\text{s.t.} \\quad \\sum_i \\gamma_i = 1\n",
    "\\end{equation}\n"
   ]
  },
  {
   "cell_type": "code",
   "execution_count": 215,
   "metadata": {},
   "outputs": [],
   "source": [
    "# set initiall weights\n",
    "initial_w = np.ones(X0.shape[1])/X0.shape[1]\n",
    "# set value for lambda\n",
    "lambda_r = 5\n",
    "\n",
    "# define the objevtive function\n",
    "def obj_fun_aug(gamma, gamma_scm, lambda_r):\n",
    "    m = np.mean(np.sqrt((X1 - X0@gamma)**2))\n",
    "    n = np.mean(np.sqrt((gamma - gamma_scm)**2))\n",
    "    return 1/2/lambda_r*m + 1/2*n\n",
    "\n",
    "# no bounds\n",
    "bounds = Bounds(lb=-np.inf, ub=np.inf)\n",
    "\n",
    "# set constraints, sum to 1\n",
    "constraints = LinearConstraint(np.ones(X0.shape[1]), lb=1, ub=1)\n",
    "\n",
    "result_aug = minimize(obj_fun_aug, x0=initial_w, args=(gamma_scm, lambda_r), bounds=bounds, constraints=constraints)"
   ]
  },
  {
   "cell_type": "code",
   "execution_count": 216,
   "metadata": {},
   "outputs": [
    {
     "data": {
      "text/plain": [
       " message: Optimization terminated successfully\n",
       " success: True\n",
       "  status: 0\n",
       "     fun: 0.070219631754861\n",
       "       x: [ 1.119e-04  1.947e-03 ...  1.216e-01  4.795e-03]\n",
       "     nit: 67\n",
       "     jac: [-1.529e+02 -4.865e+00 ... -5.530e+01 -5.525e-01]\n",
       "    nfev: 3539\n",
       "    njev: 67"
      ]
     },
     "execution_count": 216,
     "metadata": {},
     "output_type": "execute_result"
    }
   ],
   "source": [
    "result_aug"
   ]
  },
  {
   "cell_type": "code",
   "execution_count": 217,
   "metadata": {},
   "outputs": [
    {
     "data": {
      "image/png": "[encoded data removed]",
      "text/plain": [
       "<Figure size 432x288 with 1 Axes>"
      ]
     },
     "metadata": {
      "needs_background": "light"
     },
     "output_type": "display_data"
    }
   ],
   "source": [
    "# we use the weights to construct the synthetic Texas\n",
    "fitted_aug = X @ result_aug.x\n",
    "\n",
    "dat['AugSCM Texas 2'] = fitted_aug.values\n",
    "# Plot both the actual and fitted data\n",
    "sns.lineplot(dat)\n",
    "plt.legend(title=None)\n",
    "plt.axvline(x=pd.to_datetime('1993', format='%Y'), linestyle='--', color='black')\n",
    "sns.despine()"
   ]
  },
  {
   "cell_type": "code",
   "execution_count": 218,
   "metadata": {},
   "outputs": [
    {
     "name": "stdout",
     "output_type": "stream",
     "text": [
      "Mean: 0.02\n",
      "Median: 0.0019516270716886785\n",
      "Standard Deviation: 0.3722197120042634\n",
      "Min: -0.7788328184005299\n",
      "Max: 2.1605718592223004\n"
     ]
    }
   ],
   "source": [
    "print(\"Mean:\", np.mean(result_aug.x))\n",
    "print(\"Median:\", np.median(result_aug.x))\n",
    "print(\"Standard Deviation:\", np.std(result_aug.x))\n",
    "print(\"Min:\", np.min(result_aug.x))\n",
    "print(\"Max:\", np.max(result_aug.x))"
   ]
  },
  {
   "cell_type": "markdown",
   "metadata": {},
   "source": [
    "### 9. Lemma 2\n",
    "\n",
    "We can similarly characterize ridge regression alone as a solution to a penalized SCM problem as describle by equation (8) where the penalty term, is $f(\\gamma_i) = \\left( \\gamma_i - \\frac{1}{N_0} \\right)^2$, penalizes the variance of the weights. Other penalized linear models, such as the LASSO or elastic net, do not have this same representation as a penalized SCM estimator.\n",
    "\n",
    "\\begin{equation}\n",
    "\\min_{\\gamma} \\frac{1}{2\\lambda^{ridge}} \\| X_1 - X_0 \\gamma \\|_2^2 + \\frac{1}{2} \\left\\| \\gamma - \\frac{1}{N_0} \\right\\|_2^2 \\tag{19} \\quad s.t \\sum_i \\gamma_i=1 \n",
    "\\end{equation}\n"
   ]
  },
  {
   "cell_type": "code",
   "execution_count": 219,
   "metadata": {},
   "outputs": [],
   "source": [
    "# set initiall weights\n",
    "initial_w = np.ones(X0.shape[1])/X0.shape[1]\n",
    "# set value for lambda\n",
    "lambda_r = 20\n",
    "\n",
    "# define a new abjective function\n",
    "def obj_fun_aug3(gamma, lambda_r):\n",
    "    m = np.mean(np.sqrt((X1 - X0@gamma)**2))\n",
    "    n = np.mean(np.sqrt((gamma - np.ones(X0.shape[1])/X0.shape[1])**2))\n",
    "    return 0.5/lambda_r*m + 0.5*n\n",
    "\n",
    "# no bounds\n",
    "bounds = Bounds(lb=-np.inf, ub=np.inf)\n",
    "\n",
    "# set constraints, sum to 1\n",
    "constraints = LinearConstraint(np.ones(X0.shape[1]), lb=1, ub=1)\n",
    "\n",
    "result_aug3 = minimize(obj_fun_aug3, initial_w, args=(lambda_r), bounds=bounds, constraints=constraints)"
   ]
  },
  {
   "cell_type": "code",
   "execution_count": 220,
   "metadata": {},
   "outputs": [
    {
     "data": {
      "text/plain": [
       " message: Optimization terminated successfully\n",
       " success: True\n",
       "  status: 0\n",
       "     fun: 0.06756529482014346\n",
       "       x: [ 2.155e-02  1.277e-02 ...  9.018e-03  2.132e-02]\n",
       "     nit: 53\n",
       "     jac: [ 1.179e+02  3.653e+00 ...  3.754e+01  5.569e-01]\n",
       "    nfev: 2815\n",
       "    njev: 53"
      ]
     },
     "execution_count": 220,
     "metadata": {},
     "output_type": "execute_result"
    }
   ],
   "source": [
    "result_aug3"
   ]
  },
  {
   "cell_type": "code",
   "execution_count": 221,
   "metadata": {},
   "outputs": [
    {
     "data": {
      "image/png": "[encoded data removed]",
      "text/plain": [
       "<Figure size 432x288 with 1 Axes>"
      ]
     },
     "metadata": {
      "needs_background": "light"
     },
     "output_type": "display_data"
    }
   ],
   "source": [
    "# we use the weights to construct the synthetic Texas\n",
    "fitted_aug = X @ result_aug3.x\n",
    "\n",
    "dat['AugSCM Texas 3'] = fitted_aug.values\n",
    "# Plot both the actual and fitted data\n",
    "sns.lineplot(dat)\n",
    "plt.legend(title=None)\n",
    "plt.axvline(x=pd.to_datetime('1993', format='%Y'), linestyle='--', color='black')\n",
    "sns.despine()"
   ]
  },
  {
   "cell_type": "code",
   "execution_count": 222,
   "metadata": {},
   "outputs": [
    {
     "name": "stdout",
     "output_type": "stream",
     "text": [
      "Mean: 0.019999999999999997\n",
      "Median: 0.020174947357786195\n",
      "Standard Deviation: 0.37464310691392916\n",
      "Min: -0.7549968896927712\n",
      "Max: 2.177908258605102\n"
     ]
    }
   ],
   "source": [
    "print(\"Mean:\", np.mean(result_aug3.x))\n",
    "print(\"Median:\", np.median(result_aug3.x))\n",
    "print(\"Standard Deviation:\", np.std(result_aug3.x))\n",
    "print(\"Min:\", np.min(result_aug3.x))\n",
    "print(\"Max:\", np.max(result_aug3.x))"
   ]
  },
  {
   "cell_type": "markdown",
   "metadata": {},
   "source": [
    "### 10. Lemma 3\n",
    "Let $\\frac{1}{N_0}X_0 = UDV' $ be the singular value decomposition of the matrix of control pre-intervention outcomes.\n",
    "\n",
    "\\begin{align}\n",
    "\\| X_1 - X_0' \\hat{\\gamma}^{aug} \\|_2 &= \\lambda \\| (D + \\lambda I)^{-1} (\\tilde{X}_1 - \\tilde{X}_0 \\hat{\\gamma}^{scm}) \\|_2 \\notag\\\\\n",
    "\n",
    "&\\leq \\frac{\\lambda}{d_m^2 + \\lambda} \\| X_1 - X_0 \\hat{\\gamma}^{scm} \\|_2, \\tag{20}\n",
    "\\end{align}\n",
    "\n",
    "\\begin{align}\n",
    "\\| X_1 - X_0' \\hat{\\gamma}^{ridge} \\|_2 &= \\lambda \\| (D + \\lambda I)^{-1} \\tilde{X}_1 \\|_2 \\notag \\\\\n",
    "\n",
    "&\\leq \\frac{\\lambda}{d_m^2 + \\lambda} \\| \\tilde{X}_1 \\|_2, \\tag{21}\n",
    "\\end{align}\n",
    "\n",
    "$\\tilde{X_i}=V'X_i $ is the rotation of $X_i$ along the sigular vectors of $X_0$.\n",
    "\n",
    "+ Notice: Ridge ASCM Improves Pretreatment Fit Relative to SCM Alone"
   ]
  },
  {
   "cell_type": "code",
   "execution_count": 200,
   "metadata": {},
   "outputs": [],
   "source": [
    "# version 1\n",
    "# singular value decomposition\n",
    "S, V, D = np.linalg.svd(X0/np.sqrt(X0.shape[1]), full_matrices=False)\n",
    "\n",
    "# rotate X_i\n",
    "X0_tilde, X1_tilde = S.T@X0, S.T@X1\n",
    "\n",
    "res = {}\n",
    "for lambda_r in np.linspace(0.1, 1e+3, 1000):\n",
    "    inv = np.linalg.inv(np.diag(V)+ lambda_r*np.diag(np.ones(len(V))))\n",
    "\n",
    "    dis_ascm = lambda_r*np.linalg.norm(inv@(X1_tilde - X0_tilde@gamma_scm))\n",
    "    dis_ridge = lambda_r*np.linalg.norm(inv@X1_tilde)\n",
    "    res[lambda_r] = dis_ascm, dis_ridge"
   ]
  },
  {
   "cell_type": "code",
   "execution_count": 201,
   "metadata": {},
   "outputs": [
    {
     "data": {
      "text/html": [
       "<div>\n",
       "<style scoped>\n",
       "    .dataframe tbody tr th:only-of-type {\n",
       "        vertical-align: middle;\n",
       "    }\n",
       "\n",
       "    .dataframe tbody tr th {\n",
       "        vertical-align: top;\n",
       "    }\n",
       "\n",
       "    .dataframe thead th {\n",
       "        text-align: right;\n",
       "    }\n",
       "</style>\n",
       "<table border=\"1\" class=\"dataframe\">\n",
       "  <thead>\n",
       "    <tr style=\"text-align: right;\">\n",
       "      <th></th>\n",
       "      <th>0</th>\n",
       "      <th>1</th>\n",
       "    </tr>\n",
       "  </thead>\n",
       "  <tbody>\n",
       "    <tr>\n",
       "      <th>0.100000</th>\n",
       "      <td>1.627006</td>\n",
       "      <td>1.705742</td>\n",
       "    </tr>\n",
       "    <tr>\n",
       "      <th>1.100901</th>\n",
       "      <td>17.752697</td>\n",
       "      <td>18.619395</td>\n",
       "    </tr>\n",
       "    <tr>\n",
       "      <th>2.101802</th>\n",
       "      <td>33.594913</td>\n",
       "      <td>35.249378</td>\n",
       "    </tr>\n",
       "    <tr>\n",
       "      <th>3.102703</th>\n",
       "      <td>49.161530</td>\n",
       "      <td>51.603587</td>\n",
       "    </tr>\n",
       "    <tr>\n",
       "      <th>4.103604</th>\n",
       "      <td>64.460128</td>\n",
       "      <td>67.689623</td>\n",
       "    </tr>\n",
       "    <tr>\n",
       "      <th>...</th>\n",
       "      <td>...</td>\n",
       "      <td>...</td>\n",
       "    </tr>\n",
       "    <tr>\n",
       "      <th>995.996396</th>\n",
       "      <td>1910.873166</td>\n",
       "      <td>3160.042199</td>\n",
       "    </tr>\n",
       "    <tr>\n",
       "      <th>996.997297</th>\n",
       "      <td>1911.216440</td>\n",
       "      <td>3161.933763</td>\n",
       "    </tr>\n",
       "    <tr>\n",
       "      <th>997.998198</th>\n",
       "      <td>1911.559238</td>\n",
       "      <td>3163.825162</td>\n",
       "    </tr>\n",
       "    <tr>\n",
       "      <th>998.999099</th>\n",
       "      <td>1911.901561</td>\n",
       "      <td>3165.716396</td>\n",
       "    </tr>\n",
       "    <tr>\n",
       "      <th>1000.000000</th>\n",
       "      <td>1912.243409</td>\n",
       "      <td>3167.607467</td>\n",
       "    </tr>\n",
       "  </tbody>\n",
       "</table>\n",
       "<p>1000 rows × 2 columns</p>\n",
       "</div>"
      ],
      "text/plain": [
       "                       0            1\n",
       "0.100000        1.627006     1.705742\n",
       "1.100901       17.752697    18.619395\n",
       "2.101802       33.594913    35.249378\n",
       "3.102703       49.161530    51.603587\n",
       "4.103604       64.460128    67.689623\n",
       "...                  ...          ...\n",
       "995.996396   1910.873166  3160.042199\n",
       "996.997297   1911.216440  3161.933763\n",
       "997.998198   1911.559238  3163.825162\n",
       "998.999099   1911.901561  3165.716396\n",
       "1000.000000  1912.243409  3167.607467\n",
       "\n",
       "[1000 rows x 2 columns]"
      ]
     },
     "execution_count": 201,
     "metadata": {},
     "output_type": "execute_result"
    }
   ],
   "source": [
    "pd.DataFrame.from_dict(res, orient='index')"
   ]
  },
  {
   "cell_type": "code",
   "execution_count": 271,
   "metadata": {},
   "outputs": [],
   "source": [
    "# version 2\n",
    "# singular value decomposition\n",
    "S, V, D = np.linalg.svd(X0/np.sqrt(X0.shape[1]), full_matrices=False)\n",
    "# construct V_\n",
    "V_ = np.concatenate((V, np.zeros(X0.shape[1] - len(V))))\n",
    "\n",
    "# rotate X_i\n",
    "X0_tilde, X1_tilde = D.T@X0, D.T@X1\n",
    "\n",
    "res = {}\n",
    "for lambda_r in np.linspace(0.1, 1e+3, 1000):\n",
    "    inv = np.linalg.inv(np.diag(V_)+ lambda_r*np.diag(np.ones(len(V_))))\n",
    "\n",
    "    dis_ascm = lambda_r*np.linalg.norm(inv@(X1_tilde - X0_tilde@gamma_scm))\n",
    "    dis_ridge = lambda_r*np.linalg.norm(inv@X1_tilde)\n",
    "    res[lambda_r] = dis_ascm, dis_ridge"
   ]
  },
  {
   "cell_type": "code",
   "execution_count": 272,
   "metadata": {},
   "outputs": [
    {
     "data": {
      "text/html": [
       "<div>\n",
       "<style scoped>\n",
       "    .dataframe tbody tr th:only-of-type {\n",
       "        vertical-align: middle;\n",
       "    }\n",
       "\n",
       "    .dataframe tbody tr th {\n",
       "        vertical-align: top;\n",
       "    }\n",
       "\n",
       "    .dataframe thead th {\n",
       "        text-align: right;\n",
       "    }\n",
       "</style>\n",
       "<table border=\"1\" class=\"dataframe\">\n",
       "  <thead>\n",
       "    <tr style=\"text-align: right;\">\n",
       "      <th></th>\n",
       "      <th>0</th>\n",
       "      <th>1</th>\n",
       "    </tr>\n",
       "  </thead>\n",
       "  <tbody>\n",
       "    <tr>\n",
       "      <th>0.100000</th>\n",
       "      <td>2400.285650</td>\n",
       "      <td>52805.472413</td>\n",
       "    </tr>\n",
       "    <tr>\n",
       "      <th>1.100901</th>\n",
       "      <td>2400.288502</td>\n",
       "      <td>52805.573430</td>\n",
       "    </tr>\n",
       "    <tr>\n",
       "      <th>2.101802</th>\n",
       "      <td>2400.295936</td>\n",
       "      <td>52805.838425</td>\n",
       "    </tr>\n",
       "    <tr>\n",
       "      <th>3.102703</th>\n",
       "      <td>2400.307725</td>\n",
       "      <td>52806.261533</td>\n",
       "    </tr>\n",
       "    <tr>\n",
       "      <th>4.103604</th>\n",
       "      <td>2400.323652</td>\n",
       "      <td>52806.837099</td>\n",
       "    </tr>\n",
       "    <tr>\n",
       "      <th>...</th>\n",
       "      <td>...</td>\n",
       "      <td>...</td>\n",
       "    </tr>\n",
       "    <tr>\n",
       "      <th>995.996396</th>\n",
       "      <td>2431.128879</td>\n",
       "      <td>54540.696951</td>\n",
       "    </tr>\n",
       "    <tr>\n",
       "      <th>996.997297</th>\n",
       "      <td>2431.136498</td>\n",
       "      <td>54541.211938</td>\n",
       "    </tr>\n",
       "    <tr>\n",
       "      <th>997.998198</th>\n",
       "      <td>2431.144105</td>\n",
       "      <td>54541.726140</td>\n",
       "    </tr>\n",
       "    <tr>\n",
       "      <th>998.999099</th>\n",
       "      <td>2431.151700</td>\n",
       "      <td>54542.239560</td>\n",
       "    </tr>\n",
       "    <tr>\n",
       "      <th>1000.000000</th>\n",
       "      <td>2431.159282</td>\n",
       "      <td>54542.752198</td>\n",
       "    </tr>\n",
       "  </tbody>\n",
       "</table>\n",
       "<p>1000 rows × 2 columns</p>\n",
       "</div>"
      ],
      "text/plain": [
       "                       0             1\n",
       "0.100000     2400.285650  52805.472413\n",
       "1.100901     2400.288502  52805.573430\n",
       "2.101802     2400.295936  52805.838425\n",
       "3.102703     2400.307725  52806.261533\n",
       "4.103604     2400.323652  52806.837099\n",
       "...                  ...           ...\n",
       "995.996396   2431.128879  54540.696951\n",
       "996.997297   2431.136498  54541.211938\n",
       "997.998198   2431.144105  54541.726140\n",
       "998.999099   2431.151700  54542.239560\n",
       "1000.000000  2431.159282  54542.752198\n",
       "\n",
       "[1000 rows x 2 columns]"
      ]
     },
     "execution_count": 272,
     "metadata": {},
     "output_type": "execute_result"
    }
   ],
   "source": [
    "pd.DataFrame.from_dict(res, orient='index')\n"
   ]
  },
  {
   "cell_type": "code",
   "execution_count": 13,
   "metadata": {},
   "outputs": [],
   "source": [
    "df = pd.read_csv(\"data/basque.csv\")\n",
    "dataprep = Dataprep(\n",
    "    foo=df,\n",
    "    predictors=[\n",
    "        \"school.illit\",\n",
    "        \"school.prim\",\n",
    "        \"school.med\",\n",
    "        \"school.high\",\n",
    "        \"school.post.high\",\n",
    "        \"invest\",\n",
    "    ],\n",
    "    predictors_op=\"mean\",\n",
    "    time_predictors_prior=range(1964, 1970),\n",
    "    special_predictors=[\n",
    "        (\"gdpcap\", range(1960, 1970), \"mean\"),\n",
    "        (\"sec.agriculture\", range(1961, 1970, 2), \"mean\"),\n",
    "        (\"sec.energy\", range(1961, 1970, 2), \"mean\"),\n",
    "        (\"sec.industry\", range(1961, 1970, 2), \"mean\"),\n",
    "        (\"sec.construction\", range(1961, 1970, 2), \"mean\"),\n",
    "        (\"sec.services.venta\", range(1961, 1970, 2), \"mean\"),\n",
    "        (\"sec.services.nonventa\", range(1961, 1970, 2), \"mean\"),\n",
    "        (\"popdens\", [1969], \"mean\"),\n",
    "    ],\n",
    "    dependent=\"gdpcap\",\n",
    "    unit_variable=\"regionname\",\n",
    "    time_variable=\"year\",\n",
    "    treatment_identifier=\"Basque Country (Pais Vasco)\",\n",
    "    controls_identifier=[\n",
    "        \"Andalucia\",\n",
    "        \"Aragon\",\n",
    "        \"Baleares (Islas)\",\n",
    "        \"Canarias\",\n",
    "        \"Cantabria\",\n",
    "        \"Castilla-La Mancha\",\n",
    "        \"Castilla Y Leon\",\n",
    "        \"Cataluna\",\n",
    "        \"Comunidad Valenciana\",\n",
    "        \"Extremadura\",\n",
    "        \"Galicia\",\n",
    "        \"Madrid (Comunidad De)\",\n",
    "        \"Murcia (Region de)\",\n",
    "        \"Navarra (Comunidad Foral De)\",\n",
    "        \"Principado De Asturias\",\n",
    "        \"Rioja (La)\",\n",
    "        \"Spain (Espana)\",\n",
    "    ],\n",
    "    time_optimize_ssr=range(1960, 1970),\n",
    ")\n",
    "\n",
    "augsynth = AugSynth()\n",
    "augsynth.fit(dataprep=dataprep)"
   ]
  },
  {
   "cell_type": "code",
   "execution_count": 14,
   "metadata": {},
   "outputs": [
    {
     "name": "stdout",
     "output_type": "stream",
     "text": [
      "<pysyncon.dataprep.Dataprep object at 0x1038bcd50>\n"
     ]
    }
   ],
   "source": [
    "print(dataprep)"
   ]
  },
  {
   "cell_type": "code",
   "execution_count": 17,
   "metadata": {},
   "outputs": [
    {
     "data": {
      "image/png": "[encoded data removed]",
      "text/plain": [
       "<Figure size 432x288 with 1 Axes>"
      ]
     },
     "metadata": {
      "needs_background": "light"
     },
     "output_type": "display_data"
    }
   ],
   "source": [
    "augsynth.path_plot(time_period=range(1955, 1998), treatment_time=1975)"
   ]
  },
  {
   "cell_type": "code",
   "execution_count": 33,
   "metadata": {},
   "outputs": [
    {
     "name": "stdout",
     "output_type": "stream",
     "text": [
      "<pysyncon.dataprep.Dataprep object at 0x17655c750>\n"
     ]
    }
   ],
   "source": [
    "df = pd.read_stata(\"data/texas.dta\")\n",
    "dataprep = Dataprep(\n",
    "    foo=df,\n",
    "    predictors=[\"income\", \"ur\", \"poverty\"],\n",
    "    predictors_op=\"mean\",\n",
    "    time_predictors_prior=range(1985, 1994),\n",
    "    special_predictors=[\n",
    "        (\"bmprison\", [1988], \"mean\"),\n",
    "        (\"bmprison\", [1990], \"mean\"),\n",
    "        (\"bmprison\", [1991], \"mean\"),\n",
    "        (\"bmprison\", [1992], \"mean\"),\n",
    "        (\"alcohol\", [1990], \"mean\"),\n",
    "        (\"aidscapita\", [1990], \"mean\"),\n",
    "        (\"aidscapita\", [1991], \"mean\"),\n",
    "        (\"black\", [1990], \"mean\"),\n",
    "        (\"black\", [1991], \"mean\"),\n",
    "        (\"black\", [1992], \"mean\"),\n",
    "        (\"perc1519\", [1990], \"mean\"),\n",
    "    ],\n",
    "    dependent=\"bmprison\",\n",
    "    unit_variable=\"state\",\n",
    "    time_variable=\"year\",\n",
    "    treatment_identifier=\"Texas\",\n",
    "    controls_identifier=[\n",
    "        \"Alabama\",\n",
    "        \"Alaska\",\n",
    "        \"Arizona\",\n",
    "        \"Arkansas\",\n",
    "        \"California\",\n",
    "        \"Colorado\",\n",
    "        \"Connecticut\",\n",
    "        \"Delaware\",\n",
    "        \"District of Columbia\",\n",
    "        \"Florida\",\n",
    "        \"Georgia\",\n",
    "        \"Hawaii\",\n",
    "        \"Idaho\",\n",
    "        \"Illinois\",\n",
    "        \"Indiana\",\n",
    "        \"Iowa\",\n",
    "        \"Kansas\",\n",
    "        \"Kentucky\",\n",
    "        \"Louisiana\",\n",
    "        \"Maine\",\n",
    "        \"Maryland\",\n",
    "        \"Massachusetts\",\n",
    "        \"Michigan\",\n",
    "        \"Minnesota\",\n",
    "        \"Mississippi\",\n",
    "        \"Missouri\",\n",
    "        \"Montana\",\n",
    "        \"Nebraska\",\n",
    "        \"Nevada\",\n",
    "        \"New Hampshire\",\n",
    "        \"New Jersey\",\n",
    "        \"New Mexico\",\n",
    "        \"New York\",\n",
    "        \"North Carolina\",\n",
    "        \"North Dakota\",\n",
    "        \"Ohio\",\n",
    "        \"Oklahoma\",\n",
    "        \"Oregon\",\n",
    "        \"Pennsylvania\",\n",
    "        \"Rhode Island\",\n",
    "        \"South Carolina\",\n",
    "        \"South Dakota\",\n",
    "        \"Tennessee\",\n",
    "        \"Utah\",\n",
    "        \"Vermont\",\n",
    "        \"Virginia\",\n",
    "        \"Washington\",\n",
    "        \"West Virginia\",\n",
    "        \"Wisconsin\",\n",
    "        \"Wyoming\",\n",
    "    ],\n",
    "    time_optimize_ssr=range(1985, 1994),\n",
    ")\n",
    "\n",
    "print(dataprep)\n"
   ]
  },
  {
   "cell_type": "code",
   "execution_count": 34,
   "metadata": {},
   "outputs": [],
   "source": [
    "synth = Synth()\n",
    "synth.fit(dataprep=dataprep, optim_method=\"BFGS\", optim_initial=\"ols\")"
   ]
  },
  {
   "cell_type": "code",
   "execution_count": 35,
   "metadata": {},
   "outputs": [
    {
     "data": {
      "image/png": "[encoded data removed]",
      "text/plain": [
       "<Figure size 432x288 with 1 Axes>"
      ]
     },
     "metadata": {
      "needs_background": "light"
     },
     "output_type": "display_data"
    }
   ],
   "source": [
    "synth.path_plot(time_period=range(1985, 2000), treatment_time=1993)"
   ]
  },
  {
   "cell_type": "code",
   "execution_count": 38,
   "metadata": {},
   "outputs": [],
   "source": [
    "augsynth = AugSynth()\n",
    "augsynth.fit(dataprep=dataprep)"
   ]
  },
  {
   "cell_type": "code",
   "execution_count": 39,
   "metadata": {},
   "outputs": [
    {
     "data": {
      "image/png": "[encoded data removed]",
      "text/plain": [
       "<Figure size 432x288 with 1 Axes>"
      ]
     },
     "metadata": {
      "needs_background": "light"
     },
     "output_type": "display_data"
    }
   ],
   "source": [
    "augsynth.path_plot(time_period=range(1985, 2000), treatment_time=1993)"
   ]
  },
  {
   "cell_type": "code",
   "execution_count": 298,
   "metadata": {},
   "outputs": [
    {
     "data": {
      "text/plain": [
       "array([[1, 3, 5],\n",
       "       [3, 5, 1]])"
      ]
     },
     "execution_count": 298,
     "metadata": {},
     "output_type": "execute_result"
    }
   ],
   "source": [
    "A = np.random.randint(1, 7, (2, 3))\n",
    "A"
   ]
  },
  {
   "cell_type": "code",
   "execution_count": 299,
   "metadata": {},
   "outputs": [],
   "source": [
    "SL = A@A.T"
   ]
  },
  {
   "cell_type": "code",
   "execution_count": 300,
   "metadata": {},
   "outputs": [
    {
     "data": {
      "text/plain": [
       "EigResult(eigenvalues=array([58., 12.]), eigenvectors=array([[ 0.70710678, -0.70710678],\n",
       "       [ 0.70710678,  0.70710678]]))"
      ]
     },
     "execution_count": 300,
     "metadata": {},
     "output_type": "execute_result"
    }
   ],
   "source": [
    "np.linalg.eig(SL)"
   ]
  },
  {
   "cell_type": "code",
   "execution_count": 301,
   "metadata": {},
   "outputs": [
    {
     "data": {
      "text/plain": [
       "EigResult(eigenvalues=array([5.8000000e+01, 5.8753181e-16, 1.2000000e+01]), eigenvectors=array([[-0.37139068, -0.83390785, -0.40824829],\n",
       "       [-0.74278135,  0.53066863, -0.40824829],\n",
       "       [-0.55708601, -0.15161961,  0.81649658]]))"
      ]
     },
     "execution_count": 301,
     "metadata": {},
     "output_type": "execute_result"
    }
   ],
   "source": [
    "np.linalg.eig(A.T@A)"
   ]
  },
  {
   "cell_type": "code",
   "execution_count": 306,
   "metadata": {},
   "outputs": [],
   "source": [
    "S, V, D = np.linalg.svd(A, full_matrices=False)"
   ]
  },
  {
   "cell_type": "code",
   "execution_count": 307,
   "metadata": {},
   "outputs": [
    {
     "data": {
      "text/plain": [
       "array([[-0.70710678, -0.70710678],\n",
       "       [-0.70710678,  0.70710678]])"
      ]
     },
     "execution_count": 307,
     "metadata": {},
     "output_type": "execute_result"
    }
   ],
   "source": [
    "S"
   ]
  },
  {
   "cell_type": "code",
   "execution_count": 308,
   "metadata": {},
   "outputs": [
    {
     "data": {
      "text/plain": [
       "array([7.61577311, 3.46410162])"
      ]
     },
     "execution_count": 308,
     "metadata": {},
     "output_type": "execute_result"
    }
   ],
   "source": [
    "V"
   ]
  },
  {
   "cell_type": "code",
   "execution_count": 309,
   "metadata": {},
   "outputs": [
    {
     "data": {
      "text/plain": [
       "array([[-0.37139068, -0.74278135, -0.55708601],\n",
       "       [ 0.40824829,  0.40824829, -0.81649658]])"
      ]
     },
     "execution_count": 309,
     "metadata": {},
     "output_type": "execute_result"
    }
   ],
   "source": [
    "D"
   ]
  },
  {
   "cell_type": "code",
   "execution_count": 312,
   "metadata": {},
   "outputs": [
    {
     "data": {
      "text/plain": [
       "array([[1.00000000e+00, 1.94672571e-16],\n",
       "       [1.94672571e-16, 1.00000000e+00]])"
      ]
     },
     "execution_count": 312,
     "metadata": {},
     "output_type": "execute_result"
    }
   ],
   "source": [
    "D@D.T"
   ]
  }
 ],
 "metadata": {
  "kernelspec": {
   "display_name": "Python 3",
   "language": "python",
   "name": "python3"
  },
  "language_info": {
   "codemirror_mode": {
    "name": "ipython",
    "version": 3
   },
   "file_extension": ".py",
   "mimetype": "text/x-python",
   "name": "python",
   "nbconvert_exporter": "python",
   "pygments_lexer": "ipython3",
   "version": "3.11.6"
  }
 },
 "nbformat": 4,
 "nbformat_minor": 2
}
