{
 "cells": [
  {
   "cell_type": "markdown",
   "metadata": {},
   "source": [
    "### Conformal Inference Method"
   ]
  },
  {
   "cell_type": "markdown",
   "metadata": {},
   "source": [
    "`Assumption 1` Counterfactual Model\n",
    "\n",
    "\\begin{equation*}\n",
    "\\left\\{ \n",
    "\\begin{aligned}\n",
    "Y_{1t}^N &= P_{t}^N + u_t \\\\\n",
    "Y_{1t}^I &= P_{t}^N + \\theta_t + u_t \\\\\n",
    "\\end{aligned}\n",
    "\\right.\n",
    "\\quad \\Big| \\quad E(u_t) = 0, \\quad t = 1, \\ldots, T, \\quad (\\text{CMF})\n",
    "\\end{equation*}\n",
    "\n",
    "+ $P_t^N$ is mean unbiased, i.e. $E(P_t^N) = E(Y_{1t}^N)$. ${\\mu_t}$ is either iid or a stationary and weakly dependent process.\n",
    "\n",
    "+ Most importantly, ${\\mu_t}$ is also invariant under the intervention. \n",
    "\n",
    "+ If the policy changes the distribution of ${\\mu_t}$, one can either interpret our method as a structural breaks test or view the policy effect as random in which case our method yields valid prediction sets."
   ]
  },
  {
   "cell_type": "markdown",
   "metadata": {},
   "source": [
    "`Null hypothesis`\n",
    "\n",
    "\\begin{equation}\n",
    "\\tag{1}\n",
    "H_0: \\theta=\\theta^0\n",
    "\\end{equation}\n",
    "\n",
    "where $\\theta^0=(\\theta_{T_{0+1}}^0, \\cdots, \\theta_T^0)' $ is a postulated policy effect trajectory.\n",
    "\n",
    "The data under null becomes:\n",
    "$$\n",
    "Z_t = \n",
    "\\begin{cases}\n",
    "\\left( Y_{1t}^N, Y_{2t}^N , \\ldots , Y_{J+1t}^N , X_{1t}' , \\ldots , X_{J+1t}' \\right)', & t \\leq T_0 \\\\\n",
    "\\left( Y_{1t}^I - \\theta_0^t , Y_{2t}^N , \\ldots , Y_{J+1t}^N , X_{1t}' , \\ldots , X_{J+1t}' \\right)', & t > T_0\n",
    "\\end{cases}\n",
    "$$\n",
    "\n",
    "$P^N_t $ is estimated under the null using $Z=Z(\\theta^0)$, $\\hat{P}^N_t $ is estimated conterfactul based on $Z$, $\\hat{\\mu}=(\\hat{\\mu}_1, \\cdots, \\hat{\\mu}_T)' $, where $\\hat{\\mu}_t = Y^N_{1t}-\\hat{P}_t^N$."
   ]
  },
  {
   "cell_type": "markdown",
   "metadata": {},
   "source": [
    "`Definition 1` Definition of test statistic S\n",
    "\n",
    "$$\n",
    "S(\\hat{u}) = S_q(\\hat{u}) = \\left( \\frac{1}{\\sqrt{T_*}} \\sum_{t=T_0+1}^{T} |\\hat{u}_t|^q \\right)^{1/q}.\n",
    "$$\n",
    "+ Note that S is constructed such that high values indicate rejection. \n",
    "\n",
    "+ If the intervention has a large but only temporary effect, choose $ q= \\infty $. \n",
    "\n",
    "+ If the inter- vention has a permanent effect, tests using S1 or S2 exhibit good power properties."
   ]
  },
  {
   "cell_type": "markdown",
   "metadata": {},
   "source": [
    "`P-values`\n",
    "\n",
    "+ We use block permutations to compute p-values. There are two approches:\n",
    "\n",
    "1. The set of all permutations, which we call iid permutations, $\\Pi_{all}$\n",
    "\n",
    "2. The set of all (overlapping) moving block permutations, $\\Pi_{\\rightarrow}$\n",
    "\n",
    "+ The choice of $\\Pi$ does not matter for the exact finite sample validity of our procedures if the residuals are exchangeable.\n",
    "\n",
    "`Definition 2` Definition of p-value\n",
    "\n",
    "\\begin{equation}\n",
    "\\tag{2}\n",
    "\\hat{p} = 1 - \\hat{F}(S(\\hat{u})), \\text{ where } \\hat{F}(x) = \\frac{1}{|\\Pi|} \\sum_{\\pi \\in \\Pi} 1\\{S(\\hat{u}_\\pi) < x\\}.\n",
    "\\end{equation}"
   ]
  },
  {
   "cell_type": "code",
   "execution_count": 117,
   "metadata": {},
   "outputs": [],
   "source": [
    "import pandas as pd\n",
    "import numpy as np\n",
    "\n",
    "import seaborn as sns\n",
    "import matplotlib.pyplot as plt\n",
    "import os\n",
    "os.chdir('/Users/wang/Desktop/8. Literature Light Map')\n",
    "from src.synth import Synth"
   ]
  },
  {
   "cell_type": "markdown",
   "metadata": {},
   "source": [
    "### 1. Synthetic control with California Proposition 99 Example"
   ]
  },
  {
   "cell_type": "code",
   "execution_count": 118,
   "metadata": {},
   "outputs": [],
   "source": [
    "data = pd.read_stata(\"data/prop99_example.dta\")"
   ]
  },
  {
   "cell_type": "code",
   "execution_count": 119,
   "metadata": {},
   "outputs": [],
   "source": [
    "# build the model\n",
    "model = Synth()\n",
    "\n",
    "# fit the data\n",
    "fit = model.fit(data, outcome='packspercapita', time='year', id='state', treated='treated')\n",
    "\n",
    "# predict the sythethic control\n",
    "fitted = fit.predict()"
   ]
  },
  {
   "cell_type": "code",
   "execution_count": 120,
   "metadata": {},
   "outputs": [
    {
     "data": {
      "image/png": "[encoded data removed]",
      "text/plain": [
       "<Figure size 432x288 with 1 Axes>"
      ]
     },
     "metadata": {
      "needs_background": "light"
     },
     "output_type": "display_data"
    }
   ],
   "source": [
    "# plot\n",
    "dat = data.query(\"state=='California'\").copy()\n",
    "dat['fitted'] = fitted\n",
    "temp = dat[['packspercapita', 'year', 'fitted']].melt('year')\n",
    "sns.lineplot(temp, x='year', y='value', hue='variable')\n",
    "plt.legend(title=None)\n",
    "plt.axvline(x=1988, linestyle='--', color='gray')\n",
    "sns.despine()"
   ]
  },
  {
   "cell_type": "markdown",
   "metadata": {},
   "source": [
    "### 2. Hypothesis test\n",
    "\n",
    "For the post treatment period, the trajectory of estimated treatement effect is given by $\\theta = (\\theta_{T0+1}, \\cdots, \\theta_T)$\n",
    "\n",
    "$$\n",
    "H_0: \\theta = \\theta^0\n",
    "$$\n",
    "\n",
    "So this hypothesis fully determines the counterfactual outcome in the absence of treatment:\n",
    "\n",
    "The data under null becomes:\n",
    "\n",
    "$$\n",
    "Z_t = \n",
    "\\begin{cases}\n",
    "\\left( Y_{1t}^N, Y_{2t}^N , \\ldots , Y_{J+1t}^N , X_{1t}' , \\ldots , X_{J+1t}' \\right)', & t \\leq T_0 \\\\\n",
    "\\left( Y_{1t}^I - \\theta_0^t , Y_{2t}^N , \\ldots , Y_{J+1t}^N , X_{1t}' , \\ldots , X_{J+1t}' \\right)', & t > T_0\n",
    "\\end{cases}\n",
    "$$\n",
    "\n",
    "\n",
    "Following the null hypothesis, we generate the data and the test the residul of the generate data to the estimated counterfactual data by synthetic control. \n",
    "$P^N_t $ is estimated under the null using $Z=Z(\\theta^0)$, $\\hat{P}^N_t $ is estimated conterfactul based on $Z$, $\\hat{\\mu}=(\\hat{\\mu}_1, \\cdots, \\hat{\\mu}_T)' $, where $\\hat{\\mu}_t = Y^N_{1t}-\\hat{P}_t^N$.\n",
    "\n",
    "If the residuals are too extreme, we say that the treatment is unlikely the effect on the treated based the null hypothesis we’ve assumed."
   ]
  },
  {
   "cell_type": "code",
   "execution_count": 121,
   "metadata": {},
   "outputs": [],
   "source": [
    "def with_effect(df, null_hypothesis=0, start_at=1988, target_year=2000):\n",
    "    dat = df[df.state=='California'].copy()\n",
    "    window_mask = (dat.year > start_at) & (dat.year <= target_year)\n",
    "    \n",
    "    y = np.where(window_mask, dat['packspercapita'] - null_hypothesis, dat['packspercapita'])\n",
    "    dat = dat.assign(**{'null': y})\n",
    "    \n",
    "    return dat[dat.year<=target_year]"
   ]
  },
  {
   "cell_type": "markdown",
   "metadata": {},
   "source": [
    "+ 1. First, we assume the null treatment effect is -4, that is without the treatment the counterfactual packs of ciggarettes per capita will be 4 packs higher, as presented by the blue line."
   ]
  },
  {
   "cell_type": "code",
   "execution_count": 122,
   "metadata": {},
   "outputs": [
    {
     "data": {
      "image/png": "[encoded data removed]",
      "text/plain": [
       "<Figure size 432x288 with 1 Axes>"
      ]
     },
     "metadata": {
      "needs_background": "light"
     },
     "output_type": "display_data"
    }
   ],
   "source": [
    "dat = with_effect(data, -4, 1988, 2000)\n",
    "sns.lineplot(dat, x='year', y='null', label=\"H0: -4\")\n",
    "sns.lineplot(dat, x='year', y='packspercapita', label=\"H0: 0\")\n",
    "plt.axvline(x=1988, linestyle='--', color='gray')\n",
    "plt.ylabel(\"Y0 Under the Null\")\n",
    "plt.legend()\n",
    "sns.despine()"
   ]
  },
  {
   "cell_type": "markdown",
   "metadata": {},
   "source": [
    "+ 2. We fit the model for counterfactual $Y(0)$ pre- and post-treatment period. \n",
    "\n",
    "The idea here is that the model must be estimated with the entire data, under the postulated null hypothesis, to avoid huge post intervention residuals. With this model, we then compute the residuals $\\hat{\\mu}_t = Y_t^{null}(0) - \\hat{Y}_t(0) $ for all time periods."
   ]
  },
  {
   "cell_type": "code",
   "execution_count": 123,
   "metadata": {},
   "outputs": [],
   "source": [
    "# build the model\n",
    "model = Synth()\n",
    "\n",
    "# fit the data\n",
    "fit = model.fit(data, outcome='packspercapita', time='year', id='state', treated='treated')\n",
    "\n",
    "# predict the sythethic control\n",
    "fitted = fit.predict()\n",
    "\n",
    "# build the null hypothesis, the null is treatment effect is 0\n",
    "dat = with_effect(data, 0, 1988, 2000)\n",
    "\n",
    "# add fitted values\n",
    "dat['syn'] = fitted[range(len(dat))]\n",
    "\n",
    "# compute residuals\n",
    "dat['residual'] = dat.null - dat.syn"
   ]
  },
  {
   "cell_type": "code",
   "execution_count": 124,
   "metadata": {},
   "outputs": [
    {
     "data": {
      "image/png": "[encoded data removed]",
      "text/plain": [
       "<Figure size 432x288 with 1 Axes>"
      ]
     },
     "metadata": {
      "needs_background": "light"
     },
     "output_type": "display_data"
    }
   ],
   "source": [
    "# plot the null and synthetic control predicted value\n",
    "sns.lineplot(dat, x='year', y='null', label=\"H0: 0\")\n",
    "sns.lineplot(dat, x='year', y='syn', label=\"synthetic control\")\n",
    "plt.axvline(x=1988, linestyle='--', color='gray')\n",
    "plt.ylabel(\"Y0 Under the Null\")\n",
    "plt.legend()\n",
    "sns.despine()"
   ]
  },
  {
   "cell_type": "code",
   "execution_count": 125,
   "metadata": {},
   "outputs": [
    {
     "data": {
      "image/png": "[encoded data removed]",
      "text/plain": [
       "<Figure size 432x288 with 1 Axes>"
      ]
     },
     "metadata": {
      "needs_background": "light"
     },
     "output_type": "display_data"
    }
   ],
   "source": [
    "# plot the residual\n",
    "sns.lineplot(dat, x='year', y='residual', label=\"residuals\")\n",
    "plt.axhline(y=0, linestyle='--', color='gray')\n",
    "plt.axvline(x=1988, linestyle='--', color='gray')\n",
    "plt.legend()\n",
    "sns.despine()"
   ]
  },
  {
   "cell_type": "markdown",
   "metadata": {},
   "source": [
    "We can already see that the model fitted under $H_0:0 $ yields quite large and negative residuals, which is some evidence we might want to reject this null of no effect."
   ]
  },
  {
   "cell_type": "markdown",
   "metadata": {},
   "source": [
    "### 3. Test statistics"
   ]
  },
  {
   "cell_type": "markdown",
   "metadata": {},
   "source": [
    "The test statistics S summarizes how big are the residuals and hence, how unikly is the data we saw, under the null.\n",
    "\n",
    "$$\n",
    "S(\\hat{u})_q = \\left(\\sum_{t=T_0+1}^{T} |u_t|^q \\right)^{1/q}\n",
    "$$\n",
    "\n",
    "for the moment we focus on $q=1$, i.e $S(\\hat{u}) = \\sum_{t=T_0+1}^{T} |u_t| $. Notice that this statistic is computed using only the post-intervention period, with $t \\geq T_0 + 1 $.\n"
   ]
  },
  {
   "cell_type": "code",
   "execution_count": 126,
   "metadata": {},
   "outputs": [],
   "source": [
    "# test statistics\n",
    "def test_statistic(u_hat, q=1, axis=0):\n",
    "    return (np.abs(u_hat) ** q).sum(axis=axis) ** (1/q)"
   ]
  },
  {
   "cell_type": "code",
   "execution_count": 127,
   "metadata": {},
   "outputs": [
    {
     "name": "stdout",
     "output_type": "stream",
     "text": [
      "H0:0  234.16354223618632\n"
     ]
    }
   ],
   "source": [
    "print(\"H0:0 \", test_statistic(u_hat=dat.query(\"treated==1\")[\"residual\"], q=1, axis=0))"
   ]
  },
  {
   "cell_type": "markdown",
   "metadata": {},
   "source": [
    "+ High values of this test statistic indicate poor post intervention fit and, hence rejection of the null. However, we could have pretty big test statistics in the post-intervention period if our model is poorly fitted, even if $H_0$ is true.\n",
    "\n",
    "+ This means we can’t define high in absolute terms. Rather, we have to think about how high are the post intervention residuals - and test statistics - in comparison to the pre-intervention residuals."
   ]
  },
  {
   "cell_type": "markdown",
   "metadata": {},
   "source": [
    "### 4. P-value\n",
    "\n",
    "+ To compute the P-value, we block-permute the residuals, calculating the test statistic in each permutation.\n",
    "\n",
    "+ Notice, we permute with all the residuls including pre- and post-treatment priods, however we compute the test statistics only with the post-treatment periods.\n",
    "\n",
    "+ Once we do that, we will end up with $T$ test statistics, one for each of the block permutations.\n",
    "\n",
    "+ Let $\\Pi$ be the set of all block permutations, by the definition of P-value:\n",
    "\n",
    "\\begin{equation}\n",
    "\\tag{2}\n",
    "\\hat{p} = 1 - \\hat{F}(S(\\hat{u})), \\text{ where } \\hat{F}(x) = \\frac{1}{|\\Pi|} \\sum_{\\pi \\in \\Pi} 1\\{S(\\hat{u}_\\pi) < x\\}.\n",
    "\\end{equation}\n",
    "\n",
    "+ and $\\hat{\\mu}_{\\pi 0} $ is the original (unpermuted) vector or residuals. In plain terms, we are simply finding the proportion of times that the test statistics obtained by all possible block permutations is higher (more extreme) than the unpermuted test statistic."
   ]
  },
  {
   "cell_type": "code",
   "execution_count": 128,
   "metadata": {},
   "outputs": [],
   "source": [
    "u = dat[\"residual\"].values\n",
    "    \n",
    "block_permutations = np.stack([np.roll(u, permutation, axis=0)[dat.treated==1]\n",
    "                                   for permutation in range(len(u))])\n",
    "statistics = test_statistic(block_permutations, q=1, axis=1)"
   ]
  },
  {
   "cell_type": "code",
   "execution_count": 129,
   "metadata": {},
   "outputs": [],
   "source": [
    "def p_value(resid_df, q=1, target_year=2000):\n",
    "    \n",
    "    u = resid_df[\"residual\"].values\n",
    "    \n",
    "    block_permutations = np.stack([np.roll(u, permutation, axis=0)[resid_df.year>=target_year]\n",
    "                                   for permutation in range(len(u))])\n",
    "    \n",
    "    statistics = test_statistic(block_permutations, q=q, axis=1)\n",
    "    \n",
    "    p_val = np.mean(statistics >= statistics[0])\n",
    "\n",
    "    return p_val"
   ]
  },
  {
   "cell_type": "code",
   "execution_count": 130,
   "metadata": {},
   "outputs": [
    {
     "data": {
      "text/plain": [
       "0.06451612903225806"
      ]
     },
     "execution_count": 130,
     "metadata": {},
     "output_type": "execute_result"
    }
   ],
   "source": [
    "p_value(dat, q=1, target_year=1988)"
   ]
  },
  {
   "cell_type": "markdown",
   "metadata": {},
   "source": [
    "This is the P-value for the null hypothesis which states that the effect in all time periods is zero: \n",
    "$$\\theta = (\\theta_{T0+1=0}, \\cdots, \\theta_T=0)$$\n"
   ]
  },
  {
   "cell_type": "markdown",
   "metadata": {},
   "source": [
    "### 5. Confidence interval\n",
    "\n",
    "From our effect plot from the Synthetic Control, we get the feeling that the effect of Proposition 99 is not a fixed number. We can see that it starts small, around -5, but gradually increases to -25. \n",
    "\n",
    "For this reason, it might be interesting to plot the confidence interval for effect each post treatment period individually, rather than just testing a null hypothesis about an entire affect trajectory.\n"
   ]
  },
  {
   "cell_type": "markdown",
   "metadata": {},
   "source": [
    "+ If we have a single period, then $H_0$ is defined in terms of a scalar value, rather than a trajectory vector $\\theta$.\n",
    "\n",
    "+ we can generate a fine line of $H_{0s}$ and compute the P-value associated with each null.\n",
    "\n",
    "+ Notice we need to compute point-wise teststatistics and p-values"
   ]
  },
  {
   "cell_type": "code",
   "execution_count": 131,
   "metadata": {},
   "outputs": [],
   "source": [
    "def pvalue_grid(data, target_year, nulls, q):\n",
    "\n",
    "    # build the model\n",
    "    model = Synth()\n",
    "\n",
    "    # fit the data\n",
    "    fit = model.fit(data, outcome='packspercapita', time='year', id='state', treated='treated')\n",
    "\n",
    "    # predict the sythethic control\n",
    "    fitted = fit.predict()\n",
    "    \n",
    "    # build a dictionary to store the result\n",
    "    p_value_di = {}\n",
    "\n",
    "    # use a loop to compute a the p-value for set of nulls\n",
    "    for null in nulls:\n",
    "        # build the null hypothesis\n",
    "        dat = with_effect(data, null, 1988, target_year)\n",
    "\n",
    "        # add fitted values\n",
    "        dat['syn'] = fitted[range(len(dat))]\n",
    "\n",
    "        # compute residuals\n",
    "        dat['residual'] = dat.null - dat.syn\n",
    "    \n",
    "        # concate the target year to the pre-treament period, for point-wise p value\n",
    "        dat = pd.concat([dat[dat.treated==0], dat[dat.year==target_year]], axis=0)\n",
    "\n",
    "        # compute point-wise p-value\n",
    "        p = p_value(dat, q=q, target_year=target_year)\n",
    "\n",
    "        # store results\n",
    "        p_value_di[null] = p\n",
    "    return p_value_di"
   ]
  },
  {
   "cell_type": "code",
   "execution_count": 141,
   "metadata": {},
   "outputs": [
    {
     "data": {
      "text/html": [
       "<div>\n",
       "<style scoped>\n",
       "    .dataframe tbody tr th:only-of-type {\n",
       "        vertical-align: middle;\n",
       "    }\n",
       "\n",
       "    .dataframe tbody tr th {\n",
       "        vertical-align: top;\n",
       "    }\n",
       "\n",
       "    .dataframe thead th {\n",
       "        text-align: right;\n",
       "    }\n",
       "</style>\n",
       "<table border=\"1\" class=\"dataframe\">\n",
       "  <thead>\n",
       "    <tr style=\"text-align: right;\">\n",
       "      <th></th>\n",
       "      <th>null</th>\n",
       "      <th>pvalue</th>\n",
       "    </tr>\n",
       "  </thead>\n",
       "  <tbody>\n",
       "    <tr>\n",
       "      <th>0</th>\n",
       "      <td>-20.000000</td>\n",
       "      <td>0.05</td>\n",
       "    </tr>\n",
       "    <tr>\n",
       "      <th>1</th>\n",
       "      <td>-19.595960</td>\n",
       "      <td>0.05</td>\n",
       "    </tr>\n",
       "    <tr>\n",
       "      <th>2</th>\n",
       "      <td>-19.191919</td>\n",
       "      <td>0.05</td>\n",
       "    </tr>\n",
       "    <tr>\n",
       "      <th>3</th>\n",
       "      <td>-18.787879</td>\n",
       "      <td>0.05</td>\n",
       "    </tr>\n",
       "    <tr>\n",
       "      <th>4</th>\n",
       "      <td>-18.383838</td>\n",
       "      <td>0.05</td>\n",
       "    </tr>\n",
       "    <tr>\n",
       "      <th>...</th>\n",
       "      <td>...</td>\n",
       "      <td>...</td>\n",
       "    </tr>\n",
       "    <tr>\n",
       "      <th>95</th>\n",
       "      <td>18.383838</td>\n",
       "      <td>0.05</td>\n",
       "    </tr>\n",
       "    <tr>\n",
       "      <th>96</th>\n",
       "      <td>18.787879</td>\n",
       "      <td>0.05</td>\n",
       "    </tr>\n",
       "    <tr>\n",
       "      <th>97</th>\n",
       "      <td>19.191919</td>\n",
       "      <td>0.05</td>\n",
       "    </tr>\n",
       "    <tr>\n",
       "      <th>98</th>\n",
       "      <td>19.595960</td>\n",
       "      <td>0.05</td>\n",
       "    </tr>\n",
       "    <tr>\n",
       "      <th>99</th>\n",
       "      <td>20.000000</td>\n",
       "      <td>0.05</td>\n",
       "    </tr>\n",
       "  </tbody>\n",
       "</table>\n",
       "<p>100 rows × 2 columns</p>\n",
       "</div>"
      ],
      "text/plain": [
       "         null  pvalue\n",
       "0  -20.000000    0.05\n",
       "1  -19.595960    0.05\n",
       "2  -19.191919    0.05\n",
       "3  -18.787879    0.05\n",
       "4  -18.383838    0.05\n",
       "..        ...     ...\n",
       "95  18.383838    0.05\n",
       "96  18.787879    0.05\n",
       "97  19.191919    0.05\n",
       "98  19.595960    0.05\n",
       "99  20.000000    0.05\n",
       "\n",
       "[100 rows x 2 columns]"
      ]
     },
     "execution_count": 141,
     "metadata": {},
     "output_type": "execute_result"
    }
   ],
   "source": [
    "p_value_di = pvalue_grid(data, target_year=1989, nulls=np.linspace(-20, 20, 100), q=1)\n",
    "p_values = pd.DataFrame({\"null\": [i for i in p_value_di],\n",
    "                         \"pvalue\": [p_value_di[i] for i in p_value_di]})\n",
    "\n",
    "p_values"
   ]
  },
  {
   "cell_type": "code",
   "execution_count": 134,
   "metadata": {},
   "outputs": [],
   "source": [
    "def confidence_interval_from_p_values(p_values, alpha=0.1):\n",
    "    big_p_values = p_values[p_values.pvalue >= alpha]\n",
    "    return pd.DataFrame({\n",
    "        f\"{int(100-alpha*100)}_ci_lower\": big_p_values.null.min(),\n",
    "        f\"{int(100-alpha*100)}_ci_upper\": big_p_values.null.max(),\n",
    "    }, index=[p_values.columns[0]])"
   ]
  },
  {
   "cell_type": "code",
   "execution_count": 143,
   "metadata": {},
   "outputs": [
    {
     "data": {
      "text/html": [
       "<div>\n",
       "<style scoped>\n",
       "    .dataframe tbody tr th:only-of-type {\n",
       "        vertical-align: middle;\n",
       "    }\n",
       "\n",
       "    .dataframe tbody tr th {\n",
       "        vertical-align: top;\n",
       "    }\n",
       "\n",
       "    .dataframe thead th {\n",
       "        text-align: right;\n",
       "    }\n",
       "</style>\n",
       "<table border=\"1\" class=\"dataframe\">\n",
       "  <thead>\n",
       "    <tr style=\"text-align: right;\">\n",
       "      <th></th>\n",
       "      <th>90_ci_lower</th>\n",
       "      <th>90_ci_upper</th>\n",
       "    </tr>\n",
       "  </thead>\n",
       "  <tbody>\n",
       "    <tr>\n",
       "      <th>null</th>\n",
       "      <td>-13.939394</td>\n",
       "      <td>-3.030303</td>\n",
       "    </tr>\n",
       "  </tbody>\n",
       "</table>\n",
       "</div>"
      ],
      "text/plain": [
       "      90_ci_lower  90_ci_upper\n",
       "null   -13.939394    -3.030303"
      ]
     },
     "execution_count": 143,
     "metadata": {},
     "output_type": "execute_result"
    }
   ],
   "source": [
    "confidence_interval_from_p_values(p_values, alpha=0.1)"
   ]
  },
  {
   "cell_type": "code",
   "execution_count": 144,
   "metadata": {},
   "outputs": [
    {
     "data": {
      "image/png": "[encoded data removed]",
      "text/plain": [
       "<Figure size 432x288 with 1 Axes>"
      ]
     },
     "metadata": {
      "needs_background": "light"
     },
     "output_type": "display_data"
    }
   ],
   "source": [
    "plt.plot(p_values.pvalue, p_values.null)\n",
    "\n",
    "plt.axvline(x=0.1, linestyle='--', color='gray', label='0.1')\n",
    "plt.axhline(y=confidence_interval_from_p_values(p_values)['90_ci_lower'].values, linestyle='--', alpha=0.3, label='90% CI')\n",
    "plt.axhline(y=confidence_interval_from_p_values(p_values)['90_ci_upper'].values, linestyle='--', alpha=0.3)\n",
    "plt.legend()\n",
    "sns.despine()"
   ]
  },
  {
   "cell_type": "code",
   "execution_count": 147,
   "metadata": {},
   "outputs": [],
   "source": [
    "# compute the confidence interval for each periods\n",
    "nulls = np.linspace(-60, 20, 100)\n",
    "\n",
    "ci = pd.DataFrame()\n",
    "# compute point-wise confidence interval for each year\n",
    "for year in range(1989, 2001):\n",
    "    p_value_di = pvalue_grid(data, target_year=year, nulls=nulls, q=1)\n",
    "    p_values = pd.DataFrame({\"null\": [i for i in p_value_di],\n",
    "                             \"pvalue\": [p_value_di[i] for i in p_value_di]})\n",
    "    ci = pd.concat([ci, confidence_interval_from_p_values(p_values, alpha=0.1)], axis=0)"
   ]
  },
  {
   "cell_type": "code",
   "execution_count": 148,
   "metadata": {},
   "outputs": [
    {
     "data": {
      "text/html": [
       "<div>\n",
       "<style scoped>\n",
       "    .dataframe tbody tr th:only-of-type {\n",
       "        vertical-align: middle;\n",
       "    }\n",
       "\n",
       "    .dataframe tbody tr th {\n",
       "        vertical-align: top;\n",
       "    }\n",
       "\n",
       "    .dataframe thead th {\n",
       "        text-align: right;\n",
       "    }\n",
       "</style>\n",
       "<table border=\"1\" class=\"dataframe\">\n",
       "  <thead>\n",
       "    <tr style=\"text-align: right;\">\n",
       "      <th></th>\n",
       "      <th>90_ci_lower</th>\n",
       "      <th>90_ci_upper</th>\n",
       "    </tr>\n",
       "  </thead>\n",
       "  <tbody>\n",
       "    <tr>\n",
       "      <th>1989</th>\n",
       "      <td>-13.939394</td>\n",
       "      <td>-3.434343</td>\n",
       "    </tr>\n",
       "    <tr>\n",
       "      <th>1990</th>\n",
       "      <td>-14.747475</td>\n",
       "      <td>-4.242424</td>\n",
       "    </tr>\n",
       "    <tr>\n",
       "      <th>1991</th>\n",
       "      <td>-17.979798</td>\n",
       "      <td>-7.474747</td>\n",
       "    </tr>\n",
       "    <tr>\n",
       "      <th>1992</th>\n",
       "      <td>-18.787879</td>\n",
       "      <td>-8.282828</td>\n",
       "    </tr>\n",
       "    <tr>\n",
       "      <th>1993</th>\n",
       "      <td>-22.828283</td>\n",
       "      <td>-12.323232</td>\n",
       "    </tr>\n",
       "    <tr>\n",
       "      <th>1994</th>\n",
       "      <td>-26.868687</td>\n",
       "      <td>-17.171717</td>\n",
       "    </tr>\n",
       "    <tr>\n",
       "      <th>1995</th>\n",
       "      <td>-27.676768</td>\n",
       "      <td>-17.979798</td>\n",
       "    </tr>\n",
       "    <tr>\n",
       "      <th>1996</th>\n",
       "      <td>-29.292929</td>\n",
       "      <td>-18.787879</td>\n",
       "    </tr>\n",
       "    <tr>\n",
       "      <th>1997</th>\n",
       "      <td>-31.717172</td>\n",
       "      <td>-21.212121</td>\n",
       "    </tr>\n",
       "    <tr>\n",
       "      <th>1998</th>\n",
       "      <td>-28.484848</td>\n",
       "      <td>-17.979798</td>\n",
       "    </tr>\n",
       "    <tr>\n",
       "      <th>1999</th>\n",
       "      <td>-32.525253</td>\n",
       "      <td>-22.020202</td>\n",
       "    </tr>\n",
       "    <tr>\n",
       "      <th>2000</th>\n",
       "      <td>-31.717172</td>\n",
       "      <td>-21.212121</td>\n",
       "    </tr>\n",
       "  </tbody>\n",
       "</table>\n",
       "</div>"
      ],
      "text/plain": [
       "      90_ci_lower  90_ci_upper\n",
       "1989   -13.939394    -3.434343\n",
       "1990   -14.747475    -4.242424\n",
       "1991   -17.979798    -7.474747\n",
       "1992   -18.787879    -8.282828\n",
       "1993   -22.828283   -12.323232\n",
       "1994   -26.868687   -17.171717\n",
       "1995   -27.676768   -17.979798\n",
       "1996   -29.292929   -18.787879\n",
       "1997   -31.717172   -21.212121\n",
       "1998   -28.484848   -17.979798\n",
       "1999   -32.525253   -22.020202\n",
       "2000   -31.717172   -21.212121"
      ]
     },
     "execution_count": 148,
     "metadata": {},
     "output_type": "execute_result"
    }
   ],
   "source": [
    "ci.index = np.arange(1989, 2001)\n",
    "ci"
   ]
  },
  {
   "cell_type": "code",
   "execution_count": 149,
   "metadata": {},
   "outputs": [
    {
     "data": {
      "image/png": "[encoded data removed]",
      "text/plain": [
       "<Figure size 720x360 with 1 Axes>"
      ]
     },
     "metadata": {
      "needs_background": "light"
     },
     "output_type": "display_data"
    }
   ],
   "source": [
    "plt.figure(figsize=(10,5))\n",
    "plt.plot(dat.year, dat.residual, label='California')\n",
    "plt.fill_between(ci.index, ci[\"90_ci_lower\"], ci[\"90_ci_upper\"], alpha=0.2,  color=\"C1\")\n",
    "plt.axhline(y=0, lw=2, color=\"Black\")\n",
    "plt.axvline(x=1988, linestyle=\":\", color=\"Black\", lw=2, label=\"Proposition 99\")\n",
    "plt.legend()\n",
    "plt.ylabel(\"Gap in per-capita cigarette sales (in packs)\")\n",
    "sns.despine()"
   ]
  }
 ],
 "metadata": {
  "kernelspec": {
   "display_name": "Python 3",
   "language": "python",
   "name": "python3"
  },
  "language_info": {
   "codemirror_mode": {
    "name": "ipython",
    "version": 3
   },
   "file_extension": ".py",
   "mimetype": "text/x-python",
   "name": "python",
   "nbconvert_exporter": "python",
   "pygments_lexer": "ipython3",
   "version": "3.11.6"
  }
 },
 "nbformat": 4,
 "nbformat_minor": 2
}
