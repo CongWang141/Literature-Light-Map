{
 "cells": [
  {
   "cell_type": "markdown",
   "metadata": {},
   "source": [
    "## Using Multiple Outcomes to Improve the Synthetic Control Method"
   ]
  },
  {
   "cell_type": "markdown",
   "metadata": {},
   "source": [
    "### Motivations\n",
    "\n",
    "In many applications, researchers are interested in multiple outcome series at once. There is limited practical guidance for using SCM in this common setting, however, and researchers generally default to estimating separate weights for each outcome.\n",
    "    \n",
    "This separate SCM approach can run into two main challenges:\n",
    "\n",
    "+ At one extreme, poor pre-treatment fit, which is more likely with longer series, can lead to bias.\n",
    "\n",
    "+ At the other extreme, perfect or near-perfect pre-treatment fit, which is more likely with shorter series, can lead to finding SCM weights that overfit to idiosyncratic errors.\n"
   ]
  },
  {
   "cell_type": "markdown",
   "metadata": {},
   "source": [
    "### Problem setup"
   ]
  },
  {
   "cell_type": "markdown",
   "metadata": {},
   "source": [
    "We focus on the de-meaned or intercept-shifted weighting estimators (DIFP).\n",
    "\n",
    "\\begin{equation}\n",
    "\\tag{1}\n",
    "\\hat{Y}_{1Tk}(0) \\equiv \\bar{Y}_{1\\cdot k} + \\sum_{i=2}^{N} \\gamma_i \\dot{Y}_{iTk},\n",
    "\\end{equation}\n",
    "\n",
    "where $\\bar{Y}_{it} \\equiv \\frac{1}{T_0} \\sum_{t=1}^{T_0} Y_{itk} $, and $\\dot{Y}_{itk} = Y_{itk} - \\bar{Y}_{ik} $"
   ]
  },
  {
   "cell_type": "markdown",
   "metadata": {},
   "source": [
    "### Identification"
   ]
  },
  {
   "cell_type": "markdown",
   "metadata": {},
   "source": [
    "``Assumption 1:`` The outcome under control is generated as\n",
    "\n",
    "$$\n",
    "Y_{itk}(0) = \\alpha_{ik} + \\beta_{tk} + L_{itk} + \\epsilon_{itk}\n",
    "$$\n",
    "\n",
    "The bias of a de-meaned weighting estimator under assumption 1:\n",
    "\n",
    "\\begin{equation}\n",
    "\\tag{2}\n",
    "\\mathbb{E}_{\\epsilon_T} \\left[ Y_{1Tk}(0) - \\hat{Y}_{1Tk}(0) \\right] = \\beta_{Tk} \\left( 1 - \\sum_{i=2}^{N} \\gamma_i \\right) + L_{1Tk} - \\sum_{i=2}^{N} \\gamma_i L_{iTk},\n",
    "\\end{equation}\n",
    "\n",
    "weights $\\gamma$ will lead to an unbiased estimator for time $t$ and outcome $k$ if;\n",
    "\n",
    "+ The weights sum to one\n",
    "\n",
    "+ The weighted average of the latent $L_{itk}$ for the donor units equals $L_{1tk}.\n",
    "\n",
    "`Definition 1:` (Oracle weights) The oracle weights $\\gamma^*$ solve the following system of $(TK) + 1$ equations:\n",
    "\n",
    "\\begin{equation}\n",
    "\\tag{3}\n",
    "\\left( L \\quad 1_N \\right)' \n",
    "\n",
    "\\left( \\begin{array}{c} \n",
    "-1 \\\\ \n",
    "\\gamma^* \n",
    "\\end{array} \\right) \n",
    "\n",
    "= \\mathbb{0}_{T_K},\n",
    "\\end{equation}\n",
    "\n",
    "`Assumption 2a:` (Low-rank $L$) The $N\\times (TK)$ matrix of model components has reduced rank, that is:\n",
    "\n",
    "$$\n",
    "rank(L) < N- 1\n",
    "$$\n",
    "\n",
    "`Proposition 1:` (Low-rank is sufficient and necessary) The unconstrained oracle weights $\\gamma^*$ exist iff Assumption 2a holds."
   ]
  },
  {
   "cell_type": "markdown",
   "metadata": {},
   "source": [
    "Under Assumption 2a, for $r=rank(L)$ the deterministic model component can be written as a linear factor model:\n",
    "\\begin{equation}\n",
    "\\tag{4}\n",
    "L_{itk} = \\phi_i \\dot \\mu_{tk}\n",
    "\\end{equation}\n",
    "\n",
    "Where $\\mu_{tk} \\in \\mathbb{R}_r$ are latent time- and outcome-specific factors, $\\phi_i \\in \\mathbb{R}^r$ are factor loadings. Propostion 1 guarantees that the oracle weights exist and solve:\n",
    "\n",
    "$$\n",
    "\\phi_1 = \\Phi_0^{tr}\\gamma^*\n",
    "$$\n",
    "\n"
   ]
  },
  {
   "cell_type": "markdown",
   "metadata": {},
   "source": [
    "A special case that satisfies Assumption 2a is when $L_{itk}$ can be decomposed into a common and idiosyncratic component:\n",
    "\n",
    "\\begin{equation}\n",
    "\\tag{5}\n",
    "L_{itk} = \\sum_{f=1}^{r_0} \\phi_{cf} \\mu_{tkf} + \\sum_{f=r_0+1}^{r_k} \\phi_{kf} \\mu_{ktf},\n",
    "\\end{equation}\n",
    "\n",
    "where $\\phi_{cf}$ and $\\phi_{kf}$ are orthogonal. Then:\n",
    "$$\n",
    "rank(L) = r_0 + \\sum_{k=1}^K(r_k - r_0)\n",
    "$$\n",
    "To satisfy Assumption 2a, we need $K$ is relatively small or $r_0$ is large relatively to $r_k$.\n",
    "\n",
    "`Assumption 2b:` \n",
    "\n",
    "Assume $rank(L) < N − 1$ and assume there is a known $C$ such that some oracle weights exist in a set $C$ where $||x||_1<C$ for all $x \\in C$. Denote $\\gamma^*$ as a solution to Equation (3) in $C$."
   ]
  },
  {
   "cell_type": "markdown",
   "metadata": {},
   "source": [
    "### Estimation"
   ]
  },
  {
   "cell_type": "markdown",
   "metadata": {},
   "source": [
    "The concatenated objective:\n",
    "\n",
    "$$\n",
    "q^{cat}(\\gamma) = \\sqrt{\\frac{1}{T_0 K} \\sum_{k=1}^{K} \\sum_{t=1}^{T_0} \\left( \\dot{Y}_{1tk} - \\sum_{\\substack{W_i=0}} \\gamma_i \\dot{Y}_{itk} \\right)^2 },\n",
    "$$\n",
    "\n",
    "with corresponding weightss:\n",
    "\n",
    "$$\n",
    "\\hat{\\gamma}^{cat} \\equiv \\underset{\\gamma \\in C}{\\arg\\min} q^{cat}(\\gamma^2)\n",
    "$$\n"
   ]
  },
  {
   "cell_type": "markdown",
   "metadata": {},
   "source": [
    "The averaged objective:\n",
    "\n",
    "$$\n",
    "q^{avg}(\\gamma) = \\sqrt{ \\frac{1}{T_0} \\sum_{t=1}^{T_0} \\left( \\frac{1}{K} \\sum_{k=1}^{K} \\bar{Y}_{1tk} - \\sum_{W_i=0} \\gamma_i \\bar{Y}_{itk} \\right)^2 },\n",
    "$$\n",
    "\n",
    "with corresponding weights:\n",
    "\n",
    "$$\n",
    "\\hat{\\gamma}^{avg} \\equiv \\underset{\\gamma \\in C}{\\arg\\min} q^{avg}(\\gamma)^2\n",
    "$$"
   ]
  },
  {
   "cell_type": "markdown",
   "metadata": {},
   "source": [
    "### Estimation error"
   ]
  },
  {
   "cell_type": "markdown",
   "metadata": {},
   "source": [
    "Estimation error:\n",
    "\n",
    "\\begin{equation*}\n",
    "\\begin{split}\n",
    "\n",
    "\\tau_k - \\hat{\\tau}_k(\\hat{\\gamma}) &= \\bar{Y}_{1Tk}(0) - \\sum_{i=2}^{N} \\hat{\\gamma}_i \\bar{Y}_{itk} \\\\\n",
    "\n",
    "&= \\underbrace{L_{1Tk} - \\sum_{i=2}^{N} \\hat{\\gamma}_i L_{iTk}}_{\\text{bias = imbalance + overfitting}} + \\underbrace{\\epsilon_{1Tk} - \\sum_{i=2}^{N} \\hat{\\gamma}_i \\dot{\\epsilon}_{iTk}}_{\\text{noise}}. \n",
    "\n",
    "\\end{split}\n",
    "\\end{equation*}\n",
    "\n",
    "The noise term is due to post-treatment idiosyncratic errors and is common across the different approaches for choosing weights. The first term can be decomposed int:\n",
    "\n",
    "\\begin{align}\n",
    "L_{1Tk} - \\sum_{W_i=0} \\hat{\\gamma}_i L_{iTk} = \\sum_{t=1}^{T_0} \\sum_{j=1}^{K} \\omega_{tj} \\left( \\dot{Y}_{1tj} - \\sum_{W_i=0} \\hat{\\gamma}_i \\dot{Y}_{itj} \\right) \\quad (R_0) \\tag{6}\\\\\n",
    "- \\sum_{t=1}^{T_0} \\sum_{j=1}^{K} \\omega_{tk} \\left( \\dot{\\epsilon}_{1tj} - \\sum_{W_i=0} \\hat{\\gamma}_i \\dot{\\epsilon}_{itj} \\right) \\quad (R_1) \\tag{7}\n",
    "\\end{align}\n",
    "\n"
   ]
  },
  {
   "cell_type": "markdown",
   "metadata": {},
   "source": [
    "### Bias bouds"
   ]
  },
  {
   "cell_type": "markdown",
   "metadata": {},
   "source": [
    "`Assumption 3:` The idiosyncratic errors $\\epsilon_{itk}$ are sub-Gaussian random variables with scale parameter $\\sigma$.\n",
    "\n",
    "`Assumption 4:` Denote $\\mu_{tk} \\in \\mathbb{R}$ as the time-outcome factors from Equation (4) and assume that they are bounded above by $M$. Furthermore, denoting $\\sigma_{min}(A)$ as the smallest singular value of a matrix A, assume that:\n",
    "+ $\\sigma_{\\min} \\left( \\frac{1}{T_0} \\sum_t \\mu_{tk} \\mu'_{tk} \\right) \\geq \\xi^{sep} > 0\n",
    "$ for all outcomes $k=1, \\cdots, K$\n",
    "\n",
    "+ $\\sigma_{\\min} \\left( \\frac{1}{T_0K} \\sum_{tk} \\mu_{tk} \\mu'_{tk} \\right) \\geq \\xi^{cat} > 0\n",
    "$ \n",
    "\n",
    "+ $\\sigma_{\\min} \\left( \\frac{1}{T_0} \\sum_{t} \\mu_{t} \\mu'_{t} \\right) \\geq \\xi^{avg} > 0\n",
    "$ \n",
    "\n",
    "`Theorem 1:` Suppose Assumptions 1, 2b, 3 and 4 hold. Recall that by construction, the estimated weights satisfy $||\\hat{\\gamma}||_1<C$ and Assumption 2b implies $||\\gamma^*||_1 \\leq C$. Let $\\tilde{\\sigma}=(1+1/\\sqrt{T_0})\\sigma$. For any $\\sigma>0$, the absolute bias for estimating the treatment effect $|L_{1TK}(0) - \\sum_{w_i=0}\\hat{\\gamma}_iL_{iTK}|$ satisfies the boud:\n",
    "\n",
    "+ If analyzing $\\hat{\\gamma}^{sep}_{k}$,\n",
    "$$\n",
    "\\leq \\frac{r_k M^2}{\\xi^{sep}} \\left( \\underbrace{4(1 + C)\\sigma}_{\\text{Imperfect pre-treatment fit}} + 2\\delta + \\underbrace{\\frac{1}{\\sqrt{T_0}} \\left( 2C\\sqrt{\\log 2N\\sigma} + (1 + C)\\delta \\right) \\tilde{\\sigma}}_{\\text{overfitting to noise}} \\right), \\\\\n",
    "\\text{with probability at least } 1 - 8\\exp\\left( -\\frac{\\delta^2}{2} \\right) - 4\\exp\\left( -\\frac{T_0 \\delta^2}{2\\sigma^2(1+C)^2} \\right).\n",
    "$$\n",
    "\n",
    "+ If analyzing $\\hat{\\gamma}^{cat}$,\n",
    "\n",
    "$$\n",
    "\\leq \\frac{r M^2}{\\xi^{cat}} \\left( 4(1 + C)\\tilde{\\sigma} + 2\\delta + \\frac{1}{\\sqrt{T_0 K}} \\left( 2C\\sqrt{\\log 2N_0} + (1 + C)\\delta \\right) \\tilde{\\sigma} \\right), \\\\\n",
    "\\text{with probability at least } 1 - 8\\exp\\left( -\\frac{\\delta^2}{2} \\right) - 4\\exp\\left( -\\frac{T_0 K \\delta^2}{2\\sigma^2(1+C)^2} \\right).\n",
    "$$\n",
    "\n",
    "+ If analyzing $\\hat{\\gamma}^{avg}$,\n",
    "\n",
    "$$\n",
    "\\leq \\frac{r M^2}{\\xi^{avg}} \\left( \\frac{1}{\\sqrt{K}} 4(1 + C)\\sigma + 2\\delta + \\frac{1}{\\sqrt{T_0 K}} \\left( 2C\\sqrt{\\log 2N_0} + (1 + C)\\delta \\right) \\tilde{\\sigma} \\right), \\\\\n",
    "\\text{with probability at least } 1 - 8\\exp\\left( -\\frac{\\delta^2}{2} \\right) - 4\\exp\\left( -\\frac{T_0 K \\delta^2}{2\\sigma^2(1+C)^2} \\right).\n",
    "$$\n",
    "\n",
    "\n"
   ]
  },
  {
   "cell_type": "markdown",
   "metadata": {},
   "source": [
    "### Inference"
   ]
  },
  {
   "cell_type": "markdown",
   "metadata": {},
   "source": [
    "1. Enforce the null hypothesis by creating adjusted post-treatment outcomes for the treated unit.\n",
    "\n",
    "$$\n",
    "\\tilde{Y}_{iTk} = Y_{1Tk} - \\tau_{0k}.\n",
    "$$\n",
    "\n",
    "2. Augment the original data set to include the post-treatment time period T, with the adjusted outcome $\\tilde{Y}_{iTk}$; use the concatenated or averaged objective function to obtain weights $\\hat{\\gamma}(\\tau_0)$\n",
    "\n",
    "3. Compute the adjusted residual $\\hat{\\mu}_{tk} = Y_{1tk} - \\sum_{w_i=0}\\hat{\\gamma}_i(\\tau_0)Y_{itk}$ and $\\hat{\\mu}_{Tk} = \\tilde{Y}_{1Tk} - \\sum_{w_i=0}\\hat{\\gamma}_i(\\tau_0)Y_{iTk}$ and form the test statistic:\n",
    "\n",
    "\\begin{equation}\n",
    "\\tag{8}\n",
    "S_q(\\hat{u}_t) = \\left( \\frac{1}{\\sqrt{K}} \\sum_{k=1}^{K} |\\hat{u}_{tk}|^q \\right)^{1/q}\n",
    "\\end{equation}\n",
    "\n",
    "4. Compute a p-value by assessing whether the test statistic associated with the post-treatment period \"conforms\" with the distribution of the test statistic associated with pre-treatment periods:\n",
    "\n",
    "\\begin{equation}\n",
    "\\tag{9}\n",
    "\\hat{p}(\\tau_0) = \\frac{1}{T} \\sum_{t=1}^{T_0} 1 \\left\\{ S_q(\\hat{u}_T) \\leq S_q(\\hat{u}_t) \\right\\} + \\frac{1}{T}.\n",
    "\\end{equation}\n",
    "\n"
   ]
  },
  {
   "cell_type": "code",
   "execution_count": 75,
   "metadata": {},
   "outputs": [],
   "source": [
    "import numpy as np\n",
    "import pandas as pd\n",
    "\n",
    "import matplotlib.pyplot as plt\n",
    "import seaborn as sns"
   ]
  },
  {
   "cell_type": "code",
   "execution_count": 76,
   "metadata": {},
   "outputs": [],
   "source": [
    "# define a function to generate data\n",
    "def gen_outcome(N, T0, T1, D):\n",
    "    np.random.seed()\n",
    "    # factor value\n",
    "    mu_t = np.linspace(0.5, 1, T0+T1)\n",
    "    # factor loading\n",
    "    phi_i = np.linspace(1, 5, N)\n",
    "    # noise\n",
    "    epsilon_it = np.random.normal(0, 1, (N, T0+T1))\n",
    "\n",
    "    # gen outcome \n",
    "    outcome = phi_i.reshape(-1, 1) * mu_t.reshape(1, -1) + epsilon_it\n",
    "    # treated unit is the one with the second largest factor loading\n",
    "    treated = outcome[-2, :] + np.concatenate([np.zeros(T0), np.ones(T1)*D]).reshape(1, -1)\n",
    "\n",
    "    outcome = np.concatenate((outcome, treated), axis=0)  \n",
    "\n",
    "    return outcome\n",
    "\n",
    "# Notice: the last row of generated data is the observed outcome of the treated unit, the third to last row is the unobserved potential outcome of the treated unit"
   ]
  },
  {
   "cell_type": "code",
   "execution_count": 77,
   "metadata": {},
   "outputs": [],
   "source": [
    "N = 50\n",
    "T0 = 10\n",
    "T1 = 3\n",
    "K = 5\n",
    "df = np.empty((K, N+1, T0+T1))\n",
    "\n",
    "for k in range(K):\n",
    "    # generate data\n",
    "    data = gen_outcome(N, T0, T1, 2*(k+1))\n",
    "\n",
    "    # standardize all the outcome series using the pre-treatment standard deviation\n",
    "    data /= data[:, :T0].std(axis=1).reshape(-1, 1)\n",
    "\n",
    "    # compute mean for pre-treatment period\n",
    "    mean_ = data[:, :T0].mean(axis=1).reshape(-1, 1)\n",
    "\n",
    "    # de-mean outcome\n",
    "    data -= mean_\n",
    "    # reserve the de-meaned data for later use\n",
    "    df[k] = data"
   ]
  },
  {
   "cell_type": "markdown",
   "metadata": {},
   "source": [
    "### Seperated objective\n",
    "We compute the synthetic control weights for each outcome series seperately. The objective function is:\n",
    "    \n",
    "$$\n",
    "q_{k}^{sep}(\\gamma) = \\sqrt{ \\frac{1}{T_0} \\sum_{t=1}^{T_0} \\left( \\dot{Y}_{1tk} - \\sum_{W_i=0} \\gamma_i \\dot{Y}_{itk} \\right)^2 }\n",
    "\n",
    "$$\n",
    "\n",
    "The weights that minimize this objective are the synthetic control weights:\n",
    "\n",
    "$$\n",
    "\\hat{\\gamma}_{k}^{sep} = \\argmin_{\\gamma \\in \\Delta_{N_0}} q_{k}^{sep}(\\gamma)^2.\n",
    "$$\n"
   ]
  },
  {
   "cell_type": "code",
   "execution_count": 78,
   "metadata": {},
   "outputs": [],
   "source": [
    "from sklearn.utils.validation import check_X_y\n",
    "from scipy.optimize import minimize, LinearConstraint"
   ]
  },
  {
   "cell_type": "code",
   "execution_count": 79,
   "metadata": {},
   "outputs": [],
   "source": [
    "# define a function to estimate synthetic weights\n",
    "def synth(con, tre):\n",
    "\n",
    "    # get ready for input\n",
    "    X, y = check_X_y(con.T, tre)\n",
    "\n",
    "    # define objective function\n",
    "    def objective_fun(gama, X, y):\n",
    "        return np.mean((y - X.dot(gama))**2)\n",
    "\n",
    "    # define constraint\n",
    "    constraint = LinearConstraint(np.ones(X.shape[1]), lb=1, ub=1)\n",
    "    # define bounds\n",
    "    bounds = bounds = ((0, 1),) * X.shape[1]\n",
    "    # initial weights \n",
    "    gama0 = np.ones(X.shape[1])/X.shape[1]\n",
    "\n",
    "    res = minimize(objective_fun, x0=gama0, args=(X, y), method='SLSQP', constraints=constraint, bounds=bounds)\n",
    "    return res.x"
   ]
  },
  {
   "cell_type": "code",
   "execution_count": 80,
   "metadata": {},
   "outputs": [],
   "source": [
    "sep_gamma = []\n",
    "for k in range(K):\n",
    "    # treated is the one with the second largest factor loading\n",
    "    y = df[k][-1, :T0].copy()\n",
    "    # the remainings are the control units\n",
    "    X = np.delete(df[k], [-1, -3], axis=0)[:, :T0].copy()\n",
    "\n",
    "    # estimate synthetic weights\n",
    "    gama = synth(X, y)\n",
    "    sep_gamma.append(gama)"
   ]
  },
  {
   "cell_type": "code",
   "execution_count": 81,
   "metadata": {},
   "outputs": [
    {
     "data": {
      "image/png": "[encoded data removed]",
      "text/plain": [
       "<Figure size 432x288 with 1 Axes>"
      ]
     },
     "metadata": {
      "needs_background": "light"
     },
     "output_type": "display_data"
    }
   ],
   "source": [
    "counterfactual = np.delete(df[0], [-1, -3], axis=0).T @ sep_gamma[0]\n",
    "\n",
    "plt.plot(counterfactual, label='counterfactual')\n",
    "plt.plot(df[0][-3], label='unobserved', linestyle='--')\n",
    "plt.plot(df[0][-1], label='actual treated')\n",
    "\n",
    "plt.axvline(x=T0-1, color='black', linestyle='--')\n",
    "plt.legend()\n",
    "sns.despine()"
   ]
  },
  {
   "cell_type": "code",
   "execution_count": 82,
   "metadata": {},
   "outputs": [
    {
     "name": "stdout",
     "output_type": "stream",
     "text": [
      "The seperated synthetic control estimate of ATT is 1.71\n"
     ]
    }
   ],
   "source": [
    "sep_att = []\n",
    "for k in range(5):\n",
    "\n",
    "    fitted = np.delete(df[k], [-1, -3], axis=0).T @ sep_gamma[k]\n",
    "    actual = df[k][-1, :] \n",
    "\n",
    "    att = np.mean(actual[T1:] - fitted[T1:])\n",
    "    sep_att.append(att)\n",
    "sep_att_mean = np.mean(sep_att)\n",
    "print('The seperated synthetic control estimate of ATT is', sep_att_mean.round(3))"
   ]
  },
  {
   "cell_type": "code",
   "execution_count": 83,
   "metadata": {},
   "outputs": [
    {
     "name": "stdout",
     "output_type": "stream",
     "text": [
      "The real ATT is 1.665\n"
     ]
    }
   ],
   "source": [
    "# real att is \n",
    "real_att = []\n",
    "for k in range(5):\n",
    "    unobserved = df[k][-3, :]\n",
    "    actual = df[k][-1, :]\n",
    "    att = np.mean(actual[T1:] - unobserved[T1:])\n",
    "    real_att.append(att)\n",
    "real_att_mean = np.mean(real_att)\n",
    "print('The real ATT is', real_att_mean.round(3))"
   ]
  },
  {
   "cell_type": "markdown",
   "metadata": {},
   "source": [
    "### Concatenated objective\n",
    "\n",
    "$$\n",
    "q^{cat}(\\gamma) = \\sqrt{\\frac{1}{T_0 K} \\sum_{k=1}^{K} \\sum_{t=1}^{T_0} \\left( \\dot{Y}_{1tk} - \\sum_{\\substack{W_i=0}} \\gamma_i \\dot{Y}_{itk} \\right)^2 },\n",
    "$$\n",
    "\n",
    "with corresponding weightss:\n",
    "\n",
    "$$\n",
    "\\hat{\\gamma}^{cat} \\equiv \\underset{\\gamma \\in C}{\\arg\\min} \\quad q^{cat}(\\gamma^2)\n",
    "$$"
   ]
  },
  {
   "cell_type": "code",
   "execution_count": 84,
   "metadata": {},
   "outputs": [],
   "source": [
    "# picked out treated and control groups for pre-treatment period, and concatenate them separately\n",
    "X = np.empty((N-1, 0))\n",
    "y = np.empty((0,))\n",
    "for k in range(5):\n",
    "    treated = df[k][-1, :T0].copy()\n",
    "    control = np.delete(df[k], [-1, -3], axis=0)[:, :T0].copy()\n",
    "    X = np.concatenate([X, control], axis=1)\n",
    "    y = np.concatenate([y, treated], axis=0)"
   ]
  },
  {
   "cell_type": "code",
   "execution_count": 85,
   "metadata": {},
   "outputs": [],
   "source": [
    "conca_gama = synth(X, y)"
   ]
  },
  {
   "cell_type": "code",
   "execution_count": 86,
   "metadata": {},
   "outputs": [
    {
     "data": {
      "image/png": "[encoded data removed]",
      "text/plain": [
       "<Figure size 432x288 with 1 Axes>"
      ]
     },
     "metadata": {
      "needs_background": "light"
     },
     "output_type": "display_data"
    }
   ],
   "source": [
    "plt.plot(np.delete(df[0], [-1, -3], axis=0).T @ conca_gama, label='fitted')\n",
    "plt.plot(df[0][-3], label='unobserved', linestyle='--')\n",
    "plt.plot(df[0][-1], label='actual treated')\n",
    "\n",
    "plt.axvline(x=T0-1, color='black', linestyle='--')\n",
    "plt.legend()\n",
    "sns.despine()"
   ]
  },
  {
   "cell_type": "code",
   "execution_count": 87,
   "metadata": {},
   "outputs": [
    {
     "name": "stdout",
     "output_type": "stream",
     "text": [
      "The concatenated synthetic control estimate of ATT is 1.775\n"
     ]
    }
   ],
   "source": [
    "conca_residual = []\n",
    "for k in range(5):\n",
    "    fitted = np.delete(df[k], [-1, -3], axis=0).T @ conca_gama\n",
    "    actual = df[k][-1, :]\n",
    "    residule = np.mean(actual[T1:] - fitted[T1:])\n",
    "    conca_residual.append(residule)\n",
    "conca_att = np.mean(conca_residual)\n",
    "print('The concatenated synthetic control estimate of ATT is', conca_att.round(3))"
   ]
  },
  {
   "cell_type": "markdown",
   "metadata": {},
   "source": [
    "### Averaged objective\n",
    "\n",
    "The averaged objective:\n",
    "\n",
    "$$\n",
    "q^{avg}(\\gamma) = \\sqrt{ \\frac{1}{T_0} \\sum_{t=1}^{T_0} \\left( \\frac{1}{K} \\sum_{k=1}^{K} \\dot{Y}_{1tk} - \\sum_{W_i=0} \\gamma_i \\dot{Y}_{itk} \\right)^2 },\n",
    "$$\n",
    "\n",
    "with corresponding weights:\n",
    "\n",
    "$$\n",
    "\\hat{\\gamma}^{avg} \\equiv \\underset{\\gamma \\in C}{\\arg\\min} q^{avg}(\\gamma)^2\n",
    "$$"
   ]
  },
  {
   "cell_type": "code",
   "execution_count": 88,
   "metadata": {},
   "outputs": [],
   "source": [
    "# picked out treated unit for pre-treatment period, and compute the mean\n",
    "y = np.empty((T0, 0))\n",
    "X = np.empty((5, N-1, T0))\n",
    "\n",
    "for k in range(5):\n",
    "    treated = df[k][-1, :T0].reshape(-1, 1)\n",
    "    y = np.concatenate([y, treated], axis=1)\n",
    "    X[k] = np.delete(df[k], [-1, -3], axis=0)[:, :T0]\n",
    "\n",
    "# compute the mean\n",
    "y = y.mean(axis=1)\n",
    "X = X.mean(axis=0)"
   ]
  },
  {
   "cell_type": "code",
   "execution_count": 89,
   "metadata": {},
   "outputs": [],
   "source": [
    "avg_gama = synth(X, y)"
   ]
  },
  {
   "cell_type": "code",
   "execution_count": 90,
   "metadata": {},
   "outputs": [
    {
     "data": {
      "image/png": "[encoded data removed]",
      "text/plain": [
       "<Figure size 432x288 with 1 Axes>"
      ]
     },
     "metadata": {
      "needs_background": "light"
     },
     "output_type": "display_data"
    }
   ],
   "source": [
    "plt.plot(np.delete(df[0], [-1, -3], axis=0).T @ avg_gama, label='conterfactural')\n",
    "plt.plot(df[0][-3], label='Unobserved', linestyle='--')\n",
    "plt.plot(df[0][-1], label='actual treated')\n",
    "\n",
    "plt.axvline(x=T0-1, color='black', linestyle='--')\n",
    "plt.legend()\n",
    "sns.despine()"
   ]
  },
  {
   "cell_type": "code",
   "execution_count": 91,
   "metadata": {},
   "outputs": [
    {
     "name": "stdout",
     "output_type": "stream",
     "text": [
      "The averaged synthetic control estimate of ATT is 1.659\n"
     ]
    }
   ],
   "source": [
    "avg_residual = []\n",
    "for k in range(5):\n",
    "    fitted = np.delete(df[k], [-1, -3], axis=0).T @ avg_gama\n",
    "    actual = df[k][-1, :]\n",
    "    residual = np.mean(actual[T1:] - fitted[T1:])\n",
    "    avg_residual.append(residual)\n",
    "avg_att = np.mean(avg_residual)\n",
    "print('The averaged synthetic control estimate of ATT is', avg_att.round(3))"
   ]
  },
  {
   "cell_type": "markdown",
   "metadata": {},
   "source": [
    "### Monte Carlo simulation to compute the bias distribution across 3 approches"
   ]
  },
  {
   "cell_type": "code",
   "execution_count": 92,
   "metadata": {},
   "outputs": [],
   "source": [
    "# define a function to prepare to data\n",
    "def prepare_data(N, T0, T1, K):\n",
    "    df = np.empty((K, N+1, T0+T1))\n",
    "\n",
    "    for k in range(K):\n",
    "        # generate data\n",
    "        data = gen_outcome(N, T0, T1, 2*(k+1))\n",
    "\n",
    "        # standardize all the outcome series using the pre-treatment standard deviation\n",
    "        data /= data[:, :T0].std(axis=1).reshape(-1, 1)\n",
    "\n",
    "        # compute mean for pre-treatment period\n",
    "        mean_ = data[:, :T0].mean(axis=1).reshape(-1, 1)\n",
    "\n",
    "        # de-mean outcome\n",
    "        data -= mean_\n",
    "        # reserve the de-meaned data for later use\n",
    "        df[k] = data\n",
    "    return df"
   ]
  },
  {
   "cell_type": "code",
   "execution_count": 93,
   "metadata": {},
   "outputs": [],
   "source": [
    "# define a function compute the ATT by seperated synthetic control method\n",
    "def sep_syn(df, K):\n",
    "    sep_gamma = []\n",
    "    for k in range(K):\n",
    "        # treated is the one with the second largest factor loading\n",
    "        y = df[k][-1, :T0].copy()\n",
    "        # the remainings are the control units\n",
    "        X = np.delete(df[k], [-1, -3], axis=0)[:, :T0].copy()\n",
    "\n",
    "        # estimate synthetic weights\n",
    "        gama = synth(X, y)\n",
    "        sep_gamma.append(gama)\n",
    "\n",
    "    sep_att = []\n",
    "    for k in range(K):\n",
    "\n",
    "        fitted = np.delete(df[k], [-1, -3], axis=0).T @ sep_gamma[k]\n",
    "        actual = df[k][-1, :] \n",
    "\n",
    "        att = np.mean(actual[T1:] - fitted[T1:])\n",
    "        sep_att.append(att)\n",
    "    sep_att_mean = np.mean(sep_att)\n",
    "    return sep_att_mean"
   ]
  },
  {
   "cell_type": "code",
   "execution_count": 94,
   "metadata": {},
   "outputs": [],
   "source": [
    "# define a function to compute the ATT by concatenated synthetic control method\n",
    "def conca_syn(df, K):\n",
    "    X = np.empty((N-1, 0))\n",
    "    y = np.empty((0,))\n",
    "    for k in range(K):\n",
    "        treated = df[k][-1, :T0].copy()\n",
    "        control = np.delete(df[k], [-1, -3], axis=0)[:, :T0].copy()\n",
    "        X = np.concatenate([X, control], axis=1)\n",
    "        y = np.concatenate([y, treated], axis=0)\n",
    "\n",
    "        conca_gama = synth(X, y)\n",
    "\n",
    "    conca_att = []\n",
    "    for k in range(K):\n",
    "        fitted = np.delete(df[k], [-1, -3], axis=0).T @ conca_gama\n",
    "        actual = df[k][-1, :]\n",
    "        att = np.mean(actual[T1:] - fitted[T1:])\n",
    "        conca_att.append(att)\n",
    "    conca_att_mean = np.mean(conca_att)\n",
    "    return conca_att_mean"
   ]
  },
  {
   "cell_type": "code",
   "execution_count": 95,
   "metadata": {},
   "outputs": [],
   "source": [
    "# define a function to compute the ATT by averaged synthetic control method\n",
    "def avg_syn(df, K):\n",
    "    y = np.empty((T0, 0))\n",
    "    X = np.empty((K, N-1, T0))\n",
    "\n",
    "    for k in range(K):\n",
    "        treated = df[k][-1, :T0].reshape(-1, 1)\n",
    "        y = np.concatenate([y, treated], axis=1)\n",
    "        X[k] = np.delete(df[k], [-1, -3], axis=0)[:, :T0]\n",
    "\n",
    "    # compute the mean\n",
    "    y = y.mean(axis=1)\n",
    "    X = X.mean(axis=0)\n",
    "\n",
    "    avg_gama = synth(X, y)\n",
    "    avg_att = []\n",
    "    for k in range(K):\n",
    "        fitted = np.delete(df[k], [-1, -3], axis=0).T @ avg_gama\n",
    "        actual = df[k][-1, :]\n",
    "        att = np.mean(actual[T1:] - fitted[T1:])\n",
    "        avg_att.append(att)\n",
    "    avg_att_mean = np.mean(avg_att)\n",
    "    return avg_att_mean"
   ]
  },
  {
   "cell_type": "code",
   "execution_count": 96,
   "metadata": {},
   "outputs": [],
   "source": [
    "# define a function to compute the real unobserved ATT \n",
    "def real_ATT(df, K):\n",
    "    real_att = []\n",
    "    for k in range(K):\n",
    "        real = df[k][-3, :]\n",
    "        actual = df[k][-1, :]\n",
    "        att = np.mean(actual[T1:] - real[T1:])\n",
    "        real_att.append(att)\n",
    "    real_att_mean = np.mean(real_att)\n",
    "    return real_att_mean"
   ]
  },
  {
   "cell_type": "code",
   "execution_count": 97,
   "metadata": {},
   "outputs": [],
   "source": [
    "N = 50\n",
    "T0 = 10\n",
    "T1 = 3\n",
    "K = 4\n",
    "df = np.empty((K, N+1, T0+T1))\n",
    "\n",
    "# Monte Carlo simulation compute bias\n",
    "sep_bias1 = []\n",
    "conca_bias1 = []\n",
    "avg_bias1 = []\n",
    "\n",
    "for i in range(1000):\n",
    "    df = prepare_data(N, T0, T1, K)\n",
    "    sep_att_mean = sep_syn(df, K)\n",
    "    conca_att_mean = conca_syn(df, K)\n",
    "    avg_att_mean = avg_syn(df, K)\n",
    "    real_att_mean = real_ATT(df, K)\n",
    "\n",
    "    sep_bias1.append(sep_att_mean - real_att_mean)\n",
    "    conca_bias1.append(conca_att_mean - real_att_mean)\n",
    "    avg_bias1.append(avg_att_mean - real_att_mean)"
   ]
  },
  {
   "cell_type": "code",
   "execution_count": 98,
   "metadata": {},
   "outputs": [],
   "source": [
    "N = 50\n",
    "T0 = 10\n",
    "T1 = 3\n",
    "K = 10\n",
    "df = np.empty((K, N+1, T0+T1))\n",
    "\n",
    "# Monte Carlo simulation compute bias\n",
    "sep_bias2 = []\n",
    "conca_bias2 = []\n",
    "avg_bias2 = []\n",
    "\n",
    "for i in range(1000):\n",
    "    df = prepare_data(N, T0, T1, K)\n",
    "    sep_att = sep_syn(df, K)\n",
    "    conca_att = conca_syn(df, K)\n",
    "    avg_att = avg_syn(df, K)\n",
    "    real_att = real_ATT(df, K)\n",
    "\n",
    "    sep_bias2.append(sep_att - real_att)\n",
    "    conca_bias2.append(conca_att - real_att)\n",
    "    avg_bias2.append(avg_att - real_att)"
   ]
  },
  {
   "cell_type": "code",
   "execution_count": 99,
   "metadata": {},
   "outputs": [],
   "source": [
    "N = 50\n",
    "T0 = 40\n",
    "T1 = 3\n",
    "K = 4\n",
    "df = np.empty((K, N+1, T0+T1))\n",
    "\n",
    "# Monte Carlo simulation compute bias\n",
    "sep_bias3 = []\n",
    "conca_bias3 = []\n",
    "avg_bias3 = []\n",
    "\n",
    "for i in range(1000):\n",
    "    df = prepare_data(N, T0, T1, K)\n",
    "    sep_att = sep_syn(df, K)\n",
    "    conca_att = conca_syn(df, K)\n",
    "    avg_att = avg_syn(df, K)\n",
    "    real_att = real_ATT(df, K)\n",
    "\n",
    "    sep_bias3.append(sep_att - real_att)\n",
    "    conca_bias3.append(conca_att - real_att)\n",
    "    avg_bias3.append(avg_att - real_att)"
   ]
  },
  {
   "cell_type": "code",
   "execution_count": 100,
   "metadata": {},
   "outputs": [],
   "source": [
    "N = 50\n",
    "T0 = 40\n",
    "T1 = 3\n",
    "K = 10\n",
    "df = np.empty((K, N+1, T0+T1))\n",
    "\n",
    "# Monte Carlo simulation compute bias\n",
    "sep_bias4 = []\n",
    "conca_bias4 = []\n",
    "avg_bias4 = []\n",
    "\n",
    "for i in range(1000):\n",
    "    df = prepare_data(N, T0, T1, K)\n",
    "    sep_att = sep_syn(df, K)\n",
    "    conca_att = conca_syn(df, K)\n",
    "    avg_att = avg_syn(df, K)\n",
    "    real_att = real_ATT(df, K)\n",
    "\n",
    "    sep_bias4.append(sep_att - real_att)\n",
    "    conca_bias4.append(conca_att - real_att)\n",
    "    avg_bias4.append(avg_att - real_att)"
   ]
  },
  {
   "cell_type": "code",
   "execution_count": 109,
   "metadata": {},
   "outputs": [
    {
     "data": {
      "image/png": "[encoded data removed]",
      "text/plain": [
       "<Figure size 1152x648 with 4 Axes>"
      ]
     },
     "metadata": {
      "needs_background": "light"
     },
     "output_type": "display_data"
    }
   ],
   "source": [
    "fig, ax = plt.subplots(2, 2, figsize=(16, 9))\n",
    "data = pd.DataFrame({'avg_bias': avg_bias1, 'conca_bias': conca_bias1, 'sep_bias': sep_bias1}).abs()\n",
    "sns.boxplot(data=data.melt(), x='variable', y='value', hue='variable', ax=ax[0, 0])\n",
    "ax[0, 0].set_title('N=50, T0=10, T1=3, K=4')\n",
    "\n",
    "data = pd.DataFrame({'avg_bias': avg_bias2, 'conca_bias': conca_bias2, 'sep_bias': sep_bias2}).abs()\n",
    "sns.boxplot(data=data.melt(), x='variable', y='value', hue='variable', ax=ax[0, 1])\n",
    "ax[0, 1].set_title('N=50, T0=10, T1=3, K=10')\n",
    "\n",
    "data = pd.DataFrame({'avg_bias': avg_bias3, 'conca_bias': conca_bias3, 'sep_bias': sep_bias3}).abs()\n",
    "sns.boxplot(data=data.melt(), x='variable', y='value', hue='variable', ax=ax[1, 0])\n",
    "ax[1, 0].set_title('N=50, T0=40, T1=3, K=4')\n",
    "\n",
    "data = pd.DataFrame({'avg_bias': avg_bias4, 'conca_bias': conca_bias4, 'sep_bias': sep_bias4}).abs()\n",
    "sns.boxplot(data=data.melt(), x='variable', y='value', hue='variable', ax=ax[1, 1])\n",
    "ax[1, 1].set_title('N=50, T0=40, T1=3, K=10')\n",
    "\n",
    "for i in range(2):\n",
    "    for j in range(2):\n",
    "        ax[i, j].grid(linestyle='--')\n",
    "        ax[i, j].set_xlabel('')\n",
    "        ax[i, j].set_ylabel('Bias')\n",
    "sns.despine()"
   ]
  }
 ],
 "metadata": {
  "kernelspec": {
   "display_name": "Python 3",
   "language": "python",
   "name": "python3"
  },
  "language_info": {
   "codemirror_mode": {
    "name": "ipython",
    "version": 3
   },
   "file_extension": ".py",
   "mimetype": "text/x-python",
   "name": "python",
   "nbconvert_exporter": "python",
   "pygments_lexer": "ipython3",
   "version": "3.11.6"
  }
 },
 "nbformat": 4,
 "nbformat_minor": 2
}
